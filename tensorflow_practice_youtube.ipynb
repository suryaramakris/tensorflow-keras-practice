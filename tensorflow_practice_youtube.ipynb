{
  "nbformat": 4,
  "nbformat_minor": 0,
  "metadata": {
    "colab": {
      "provenance": []
    },
    "kernelspec": {
      "name": "python3",
      "display_name": "Python 3"
    },
    "language_info": {
      "name": "python"
    }
  },
  "cells": [
    {
      "cell_type": "code",
      "source": [
        "import tensorflow as tf\n",
        "print(tf.__version__)"
      ],
      "metadata": {
        "colab": {
          "base_uri": "https://localhost:8080/"
        },
        "id": "Be6x3b5pjprY",
        "outputId": "141b5f03-9e62-4701-d3c6-d91d002500e6"
      },
      "execution_count": null,
      "outputs": [
        {
          "output_type": "stream",
          "name": "stdout",
          "text": [
            "2.11.0\n"
          ]
        }
      ]
    },
    {
      "cell_type": "code",
      "source": [
        "\n",
        "# Create two random (but the same) tensors\n",
        "random_1 = tf.random.Generator.from_seed(7) # set seed for reproducibility\n",
        "random_1 = random_1.normal(shape=(3, 2))"
      ],
      "metadata": {
        "id": "bi3K4sB3j7v5"
      },
      "execution_count": null,
      "outputs": []
    },
    {
      "cell_type": "code",
      "source": [
        "random_1"
      ],
      "metadata": {
        "colab": {
          "base_uri": "https://localhost:8080/"
        },
        "id": "y2qCfcOve7hD",
        "outputId": "6e3dc4d3-bb48-450a-e3be-a1f4895d526c"
      },
      "execution_count": null,
      "outputs": [
        {
          "output_type": "execute_result",
          "data": {
            "text/plain": [
              "<tf.Tensor: shape=(3, 2), dtype=float32, numpy=\n",
              "array([[-1.3240396 ,  0.28785667],\n",
              "       [-0.8757901 , -0.08857018],\n",
              "       [ 0.69211644,  0.84215707]], dtype=float32)>"
            ]
          },
          "metadata": {},
          "execution_count": 3
        }
      ]
    },
    {
      "cell_type": "code",
      "source": [
        "rand_own = tf.random.Generator.from_seed(42)\n",
        "a = rand_own.normal(shape=(4,3))"
      ],
      "metadata": {
        "id": "IR3IQNW1e_3r"
      },
      "execution_count": null,
      "outputs": []
    },
    {
      "cell_type": "code",
      "source": [
        "a"
      ],
      "metadata": {
        "colab": {
          "base_uri": "https://localhost:8080/"
        },
        "id": "2P5z5w9ffmQb",
        "outputId": "7475e8fd-2238-4897-bf77-484b1697041e"
      },
      "execution_count": null,
      "outputs": [
        {
          "output_type": "execute_result",
          "data": {
            "text/plain": [
              "<tf.Tensor: shape=(4, 3), dtype=float32, numpy=\n",
              "array([[-0.7565803 , -0.06854702,  0.07595026],\n",
              "       [-1.2573844 , -0.23193763, -1.8107855 ],\n",
              "       [ 0.09988727, -0.50998646, -0.7535805 ],\n",
              "       [-0.57166284,  0.1480774 , -0.23362993]], dtype=float32)>"
            ]
          },
          "metadata": {},
          "execution_count": 10
        }
      ]
    },
    {
      "cell_type": "code",
      "source": [
        "tf.random.shuffle(a)"
      ],
      "metadata": {
        "colab": {
          "base_uri": "https://localhost:8080/"
        },
        "id": "jm0EulLffs60",
        "outputId": "c5e0b68f-f042-41d9-dabd-05646119cabb"
      },
      "execution_count": null,
      "outputs": [
        {
          "output_type": "execute_result",
          "data": {
            "text/plain": [
              "<tf.Tensor: shape=(4, 3), dtype=float32, numpy=\n",
              "array([[-1.2573844 , -0.23193763, -1.8107855 ],\n",
              "       [-0.57166284,  0.1480774 , -0.23362993],\n",
              "       [-0.7565803 , -0.06854702,  0.07595026],\n",
              "       [ 0.09988727, -0.50998646, -0.7535805 ]], dtype=float32)>"
            ]
          },
          "metadata": {},
          "execution_count": 12
        }
      ]
    },
    {
      "cell_type": "code",
      "source": [
        "tf.size(a)"
      ],
      "metadata": {
        "colab": {
          "base_uri": "https://localhost:8080/"
        },
        "id": "-bVQt3Kefyua",
        "outputId": "8ea5a25c-54ab-4353-d780-744f743c0043"
      },
      "execution_count": null,
      "outputs": [
        {
          "output_type": "execute_result",
          "data": {
            "text/plain": [
              "<tf.Tensor: shape=(), dtype=int32, numpy=12>"
            ]
          },
          "metadata": {},
          "execution_count": 13
        }
      ]
    },
    {
      "cell_type": "code",
      "source": [
        "tf.zeros([3,5,1])"
      ],
      "metadata": {
        "colab": {
          "base_uri": "https://localhost:8080/"
        },
        "id": "xLP7MJ0zgeqz",
        "outputId": "1a7b5cc0-928f-455c-d1e0-b08b6adf328a"
      },
      "execution_count": null,
      "outputs": [
        {
          "output_type": "execute_result",
          "data": {
            "text/plain": [
              "<tf.Tensor: shape=(3, 5, 1), dtype=float32, numpy=\n",
              "array([[[0.],\n",
              "        [0.],\n",
              "        [0.],\n",
              "        [0.],\n",
              "        [0.]],\n",
              "\n",
              "       [[0.],\n",
              "        [0.],\n",
              "        [0.],\n",
              "        [0.],\n",
              "        [0.]],\n",
              "\n",
              "       [[0.],\n",
              "        [0.],\n",
              "        [0.],\n",
              "        [0.],\n",
              "        [0.]]], dtype=float32)>"
            ]
          },
          "metadata": {},
          "execution_count": 16
        }
      ]
    },
    {
      "cell_type": "code",
      "source": [
        "a = tf.ones([3,5])\n",
        "tf.size(a)"
      ],
      "metadata": {
        "colab": {
          "base_uri": "https://localhost:8080/"
        },
        "id": "vhwHOqIugrT1",
        "outputId": "6c6cbbf3-1dc9-4b7e-a860-76f63fe3f750"
      },
      "execution_count": null,
      "outputs": [
        {
          "output_type": "execute_result",
          "data": {
            "text/plain": [
              "<tf.Tensor: shape=(), dtype=int32, numpy=15>"
            ]
          },
          "metadata": {},
          "execution_count": 19
        }
      ]
    },
    {
      "cell_type": "code",
      "source": [
        "b = tf.reshape(a,shape=(5,3))\n",
        "b"
      ],
      "metadata": {
        "colab": {
          "base_uri": "https://localhost:8080/"
        },
        "id": "hG4vgNWGhdmi",
        "outputId": "08e86692-c1ef-45c9-f753-65e10e18fb70"
      },
      "execution_count": null,
      "outputs": [
        {
          "output_type": "execute_result",
          "data": {
            "text/plain": [
              "<tf.Tensor: shape=(5, 3), dtype=float32, numpy=\n",
              "array([[1., 1., 1.],\n",
              "       [1., 1., 1.],\n",
              "       [1., 1., 1.],\n",
              "       [1., 1., 1.],\n",
              "       [1., 1., 1.]], dtype=float32)>"
            ]
          },
          "metadata": {},
          "execution_count": 21
        }
      ]
    },
    {
      "cell_type": "code",
      "source": [
        "tf.matmul(a,b)"
      ],
      "metadata": {
        "colab": {
          "base_uri": "https://localhost:8080/"
        },
        "id": "VoxnDBHshC5O",
        "outputId": "d8e8b94a-189f-4e03-acaa-1f794408dd39"
      },
      "execution_count": null,
      "outputs": [
        {
          "output_type": "execute_result",
          "data": {
            "text/plain": [
              "<tf.Tensor: shape=(3, 3), dtype=float32, numpy=\n",
              "array([[5., 5., 5.],\n",
              "       [5., 5., 5.],\n",
              "       [5., 5., 5.]], dtype=float32)>"
            ]
          },
          "metadata": {},
          "execution_count": 22
        }
      ]
    },
    {
      "cell_type": "code",
      "source": [
        "# Matrix mutliplication with Python operator \"@\"\n",
        "a @ b"
      ],
      "metadata": {
        "colab": {
          "base_uri": "https://localhost:8080/"
        },
        "id": "yE2T2QVKhPfR",
        "outputId": "4b07f51e-a573-49e4-ae85-3906ceff6ee6"
      },
      "execution_count": null,
      "outputs": [
        {
          "output_type": "execute_result",
          "data": {
            "text/plain": [
              "<tf.Tensor: shape=(3, 3), dtype=float32, numpy=\n",
              "array([[5., 5., 5.],\n",
              "       [5., 5., 5.],\n",
              "       [5., 5., 5.]], dtype=float32)>"
            ]
          },
          "metadata": {},
          "execution_count": 24
        }
      ]
    },
    {
      "cell_type": "code",
      "source": [
        "b = tf.transpose(a)\n",
        "b"
      ],
      "metadata": {
        "colab": {
          "base_uri": "https://localhost:8080/"
        },
        "id": "dep_DxcQhrMo",
        "outputId": "b6def9e8-d9af-429e-d4c9-cc1a846a49ac"
      },
      "execution_count": null,
      "outputs": [
        {
          "output_type": "execute_result",
          "data": {
            "text/plain": [
              "<tf.Tensor: shape=(5, 3), dtype=float32, numpy=\n",
              "array([[1., 1., 1.],\n",
              "       [1., 1., 1.],\n",
              "       [1., 1., 1.],\n",
              "       [1., 1., 1.],\n",
              "       [1., 1., 1.]], dtype=float32)>"
            ]
          },
          "metadata": {},
          "execution_count": 25
        }
      ]
    },
    {
      "cell_type": "code",
      "source": [
        "tf.cast(b,dtype=tf.float16)"
      ],
      "metadata": {
        "colab": {
          "base_uri": "https://localhost:8080/"
        },
        "id": "oyVcLmexhztq",
        "outputId": "832c3a91-576e-4012-ca8d-0d87011075c4"
      },
      "execution_count": null,
      "outputs": [
        {
          "output_type": "execute_result",
          "data": {
            "text/plain": [
              "<tf.Tensor: shape=(5, 3), dtype=float16, numpy=\n",
              "array([[1., 1., 1.],\n",
              "       [1., 1., 1.],\n",
              "       [1., 1., 1.],\n",
              "       [1., 1., 1.],\n",
              "       [1., 1., 1.]], dtype=float16)>"
            ]
          },
          "metadata": {},
          "execution_count": 26
        }
      ]
    },
    {
      "cell_type": "code",
      "source": [
        "tf.cast(b,dtype=tf.int16)"
      ],
      "metadata": {
        "colab": {
          "base_uri": "https://localhost:8080/"
        },
        "id": "1C9THBrriZAC",
        "outputId": "8117f5e6-dc90-4b60-fc06-7314465d56cb"
      },
      "execution_count": null,
      "outputs": [
        {
          "output_type": "execute_result",
          "data": {
            "text/plain": [
              "<tf.Tensor: shape=(5, 3), dtype=int16, numpy=\n",
              "array([[1, 1, 1],\n",
              "       [1, 1, 1],\n",
              "       [1, 1, 1],\n",
              "       [1, 1, 1],\n",
              "       [1, 1, 1]], dtype=int16)>"
            ]
          },
          "metadata": {},
          "execution_count": 28
        }
      ]
    },
    {
      "cell_type": "code",
      "source": [
        "tf.config.list_physical_devices(\"GPU\")     "
      ],
      "metadata": {
        "colab": {
          "base_uri": "https://localhost:8080/"
        },
        "id": "cxieXVm8ifK_",
        "outputId": "96b28dba-ab20-4a99-e872-a08d623f15d7"
      },
      "execution_count": null,
      "outputs": [
        {
          "output_type": "execute_result",
          "data": {
            "text/plain": [
              "[]"
            ]
          },
          "metadata": {},
          "execution_count": 30
        }
      ]
    },
    {
      "cell_type": "markdown",
      "source": [
        "### Neural Networks using Tensorflow"
      ],
      "metadata": {
        "id": "Vbst_K2BpcJx"
      }
    },
    {
      "cell_type": "markdown",
      "source": [
        ">  Regression problem"
      ],
      "metadata": {
        "id": "YgpiCH6msfQC"
      }
    },
    {
      "cell_type": "code",
      "source": [
        "#Import tensorflow\n",
        "import tensorflow as tf\n",
        "print(tf.__version__)"
      ],
      "metadata": {
        "colab": {
          "base_uri": "https://localhost:8080/"
        },
        "id": "LnWNX4Vfsewy",
        "outputId": "7360eaac-45a1-454e-ab8e-d1a49d4d5168"
      },
      "execution_count": null,
      "outputs": [
        {
          "output_type": "stream",
          "name": "stdout",
          "text": [
            "2.11.0\n"
          ]
        }
      ]
    },
    {
      "cell_type": "code",
      "source": [
        "### Getting the data\n",
        "import numpy as np\n",
        "import matplotlib.pyplot as plt\n",
        "\n",
        "#creating the features\n",
        "X = np.array([-7.0,-4.0,-1.0,2.0,5.0,8.0,11.0,14.0])\n",
        "\n",
        "y = np.array([3.0,6.0,9.0,12.0,15.0,18.0,21.0,24.0])\n",
        "\n",
        "plt.scatter(X,y)"
      ],
      "metadata": {
        "id": "iWp5UqV3loXS",
        "colab": {
          "base_uri": "https://localhost:8080/",
          "height": 286
        },
        "outputId": "50ba83a3-d79f-4545-fc78-e36d3f873c46"
      },
      "execution_count": null,
      "outputs": [
        {
          "output_type": "execute_result",
          "data": {
            "text/plain": [
              "<matplotlib.collections.PathCollection at 0x7fd9316351c0>"
            ]
          },
          "metadata": {},
          "execution_count": 2
        },
        {
          "output_type": "display_data",
          "data": {
            "text/plain": [
              "<Figure size 432x288 with 1 Axes>"
            ],
            "image/png": "[encoded data removed]"
          },
          "metadata": {
            "needs_background": "light"
          }
        }
      ]
    },
    {
      "cell_type": "code",
      "source": [
        "#input and output shapes\n",
        "house_info = tf.constant([\"Bedroom\",\"Bathroom\",\"Garages\"])\n",
        "house_price = tf.constant([939700])\n",
        "house_info,house_price"
      ],
      "metadata": {
        "colab": {
          "base_uri": "https://localhost:8080/"
        },
        "id": "FQxhYQsqtpEW",
        "outputId": "d1b84f59-8071-4f96-8942-d7c50b59d30c"
      },
      "execution_count": null,
      "outputs": [
        {
          "output_type": "execute_result",
          "data": {
            "text/plain": [
              "(<tf.Tensor: shape=(3,), dtype=string, numpy=array([b'Bedroom', b'Bathroom', b'Garages'], dtype=object)>,\n",
              " <tf.Tensor: shape=(1,), dtype=int32, numpy=array([939700], dtype=int32)>)"
            ]
          },
          "metadata": {},
          "execution_count": 3
        }
      ]
    },
    {
      "cell_type": "code",
      "source": [
        "# Create features (using tensors)\n",
        "x = tf.constant([-7.0, -4.0, -1.0, 2.0, 5.0, 8.0, 11.0, 14.0])\n",
        "\n",
        "# Create labels (using tensors)\n",
        "y = tf.constant([3.0, 6.0, 9.0, 12.0, 15.0, 18.0, 21.0, 24.0])\n",
        "\n",
        "# Visualize it\n",
        "plt.scatter(x, y);"
      ],
      "metadata": {
        "colab": {
          "base_uri": "https://localhost:8080/",
          "height": 269
        },
        "id": "tvq4uyrV0SzB",
        "outputId": "1ca01e13-3d0f-4daf-abad-6d3a936986da"
      },
      "execution_count": null,
      "outputs": [
        {
          "output_type": "display_data",
          "data": {
            "text/plain": [
              "<Figure size 432x288 with 1 Axes>"
            ],
            "image/png": "[encoded data removed]"
          },
          "metadata": {
            "needs_background": "light"
          }
        }
      ]
    },
    {
      "cell_type": "code",
      "source": [
        "\n",
        "# Take a single example of X\n",
        "input_shape = x[0].shape \n",
        "\n",
        "# Take a single example of y\n",
        "output_shape = y[0].shape\n",
        "\n",
        "input_shape, output_shape"
      ],
      "metadata": {
        "colab": {
          "base_uri": "https://localhost:8080/"
        },
        "id": "wUu3K03I1ZPU",
        "outputId": "d8b6045b-fca4-4def-c3df-a38fb56c83e8"
      },
      "execution_count": null,
      "outputs": [
        {
          "output_type": "execute_result",
          "data": {
            "text/plain": [
              "(TensorShape([]), TensorShape([]))"
            ]
          },
          "metadata": {},
          "execution_count": 5
        }
      ]
    },
    {
      "cell_type": "code",
      "source": [
        "# Let's take a look at the single examples invidually\n",
        "X[0], y[0]"
      ],
      "metadata": {
        "colab": {
          "base_uri": "https://localhost:8080/"
        },
        "id": "z2Xpn1ae09ez",
        "outputId": "72260328-3b99-439b-e3d7-ea33e4d377b8"
      },
      "execution_count": null,
      "outputs": [
        {
          "output_type": "execute_result",
          "data": {
            "text/plain": [
              "(-7.0, <tf.Tensor: shape=(), dtype=float32, numpy=3.0>)"
            ]
          },
          "metadata": {},
          "execution_count": 6
        }
      ]
    },
    {
      "cell_type": "code",
      "source": [
        "x.shape,y.shape"
      ],
      "metadata": {
        "colab": {
          "base_uri": "https://localhost:8080/"
        },
        "id": "U-XrtkxfvxQC",
        "outputId": "ad536617-7be2-46d3-8a2c-66684f21a2d1"
      },
      "execution_count": null,
      "outputs": [
        {
          "output_type": "execute_result",
          "data": {
            "text/plain": [
              "(TensorShape([8]), TensorShape([8]))"
            ]
          },
          "metadata": {},
          "execution_count": 7
        }
      ]
    },
    {
      "cell_type": "code",
      "source": [
        "# creating the model\n",
        "#set random seed\n",
        "tf.random.set_seed(42)\n",
        "\n",
        "model = tf.keras.Sequential([\n",
        "    tf.keras.layers.Dense(1)\n",
        "])\n",
        "\n",
        "model.compile(loss = tf.keras.losses.mae,\n",
        "              optimizer=tf.keras.optimizers.SGD(),\n",
        "              metrics=[\"mae\"])\n",
        "\n",
        "model.fit(tf.expand_dims(x, axis=-1), y, epochs=5)"
      ],
      "metadata": {
        "colab": {
          "base_uri": "https://localhost:8080/"
        },
        "id": "1i1SJIGvw59C",
        "outputId": "460ba71b-c3dd-4486-825f-c30e5f264147"
      },
      "execution_count": null,
      "outputs": [
        {
          "output_type": "stream",
          "name": "stdout",
          "text": [
            "Epoch 1/5\n",
            "1/1 [==============================] - 0s 315ms/step - loss: 13.9736 - mae: 13.9736\n",
            "Epoch 2/5\n",
            "1/1 [==============================] - 0s 10ms/step - loss: 13.8411 - mae: 13.8411\n",
            "Epoch 3/5\n",
            "1/1 [==============================] - 0s 10ms/step - loss: 13.7086 - mae: 13.7086\n",
            "Epoch 4/5\n",
            "1/1 [==============================] - 0s 9ms/step - loss: 13.5761 - mae: 13.5761\n",
            "Epoch 5/5\n",
            "1/1 [==============================] - 0s 9ms/step - loss: 13.4436 - mae: 13.4436\n"
          ]
        },
        {
          "output_type": "execute_result",
          "data": {
            "text/plain": [
              "<keras.callbacks.History at 0x7fd925e9c640>"
            ]
          },
          "metadata": {},
          "execution_count": 8
        }
      ]
    },
    {
      "cell_type": "code",
      "source": [
        "tf.expand_dims(X, axis=-1)"
      ],
      "metadata": {
        "id": "yPAOVp4QyyM-",
        "colab": {
          "base_uri": "https://localhost:8080/"
        },
        "outputId": "d5d8d604-ec1d-4a5e-ced6-788006b77e15"
      },
      "execution_count": null,
      "outputs": [
        {
          "output_type": "execute_result",
          "data": {
            "text/plain": [
              "<tf.Tensor: shape=(8, 1), dtype=float64, numpy=\n",
              "array([[-7.],\n",
              "       [-4.],\n",
              "       [-1.],\n",
              "       [ 2.],\n",
              "       [ 5.],\n",
              "       [ 8.],\n",
              "       [11.],\n",
              "       [14.]])>"
            ]
          },
          "metadata": {},
          "execution_count": 9
        }
      ]
    },
    {
      "cell_type": "code",
      "source": [
        "x,y"
      ],
      "metadata": {
        "colab": {
          "base_uri": "https://localhost:8080/"
        },
        "id": "VCMIzrF62I7_",
        "outputId": "5d51d506-a30b-4bcd-8f7d-9a9554ec5898"
      },
      "execution_count": null,
      "outputs": [
        {
          "output_type": "execute_result",
          "data": {
            "text/plain": [
              "(<tf.Tensor: shape=(8,), dtype=float32, numpy=array([-7., -4., -1.,  2.,  5.,  8., 11., 14.], dtype=float32)>,\n",
              " <tf.Tensor: shape=(8,), dtype=float32, numpy=array([ 3.,  6.,  9., 12., 15., 18., 21., 24.], dtype=float32)>)"
            ]
          },
          "metadata": {},
          "execution_count": 10
        }
      ]
    },
    {
      "cell_type": "code",
      "source": [
        "y_pred = model.predict([17])\n",
        "y_pred"
      ],
      "metadata": {
        "colab": {
          "base_uri": "https://localhost:8080/"
        },
        "id": "z0LMlpyW2f52",
        "outputId": "d59b1b4c-fcf1-4e07-9f34-6aa49fc6a543"
      },
      "execution_count": null,
      "outputs": [
        {
          "output_type": "stream",
          "name": "stdout",
          "text": [
            "1/1 [==============================] - 0s 39ms/step\n"
          ]
        },
        {
          "output_type": "execute_result",
          "data": {
            "text/plain": [
              "array([[0.7245142]], dtype=float32)"
            ]
          },
          "metadata": {},
          "execution_count": 12
        }
      ]
    },
    {
      "cell_type": "code",
      "source": [
        "#Improve the model\n",
        "model = tf.keras.Sequential([\n",
        "   tf.keras.layers.Dense(1) \n",
        "])\n",
        "\n",
        "model.compile(loss = tf.keras.losses.mae,\n",
        "              optimizer = tf.keras.optimizers.SGD(),\n",
        "              metrics=[\"mae\"])\n",
        "\n",
        "model.fit(tf.expand_dims(x,axis=-1),y,epochs=100)"
      ],
      "metadata": {
        "colab": {
          "base_uri": "https://localhost:8080/"
        },
        "id": "NqGRha982m_9",
        "outputId": "04216d44-7709-48cc-d973-7e7f86e91165"
      },
      "execution_count": null,
      "outputs": [
        {
          "output_type": "stream",
          "name": "stdout",
          "text": [
            "Epoch 1/100\n",
            "1/1 [==============================] - 0s 251ms/step - loss: 21.9604 - mae: 21.9604\n",
            "Epoch 2/100\n",
            "1/1 [==============================] - 0s 9ms/step - loss: 21.5673 - mae: 21.5673\n",
            "Epoch 3/100\n",
            "1/1 [==============================] - 0s 11ms/step - loss: 21.1742 - mae: 21.1742\n",
            "Epoch 4/100\n",
            "1/1 [==============================] - 0s 8ms/step - loss: 20.7811 - mae: 20.7811\n",
            "Epoch 5/100\n",
            "1/1 [==============================] - 0s 8ms/step - loss: 20.4193 - mae: 20.4193\n",
            "Epoch 6/100\n",
            "1/1 [==============================] - 0s 8ms/step - loss: 20.1380 - mae: 20.1380\n",
            "Epoch 7/100\n",
            "1/1 [==============================] - 0s 8ms/step - loss: 19.8568 - mae: 19.8568\n",
            "Epoch 8/100\n",
            "1/1 [==============================] - 0s 8ms/step - loss: 19.5755 - mae: 19.5755\n",
            "Epoch 9/100\n",
            "1/1 [==============================] - 0s 10ms/step - loss: 19.2943 - mae: 19.2943\n",
            "Epoch 10/100\n",
            "1/1 [==============================] - 0s 9ms/step - loss: 19.0130 - mae: 19.0130\n",
            "Epoch 11/100\n",
            "1/1 [==============================] - 0s 8ms/step - loss: 18.7318 - mae: 18.7318\n",
            "Epoch 12/100\n",
            "1/1 [==============================] - 0s 15ms/step - loss: 18.4505 - mae: 18.4505\n",
            "Epoch 13/100\n",
            "1/1 [==============================] - 0s 10ms/step - loss: 18.1693 - mae: 18.1693\n",
            "Epoch 14/100\n",
            "1/1 [==============================] - 0s 10ms/step - loss: 17.8880 - mae: 17.8880\n",
            "Epoch 15/100\n",
            "1/1 [==============================] - 0s 9ms/step - loss: 17.6068 - mae: 17.6068\n",
            "Epoch 16/100\n",
            "1/1 [==============================] - 0s 11ms/step - loss: 17.3255 - mae: 17.3255\n",
            "Epoch 17/100\n",
            "1/1 [==============================] - 0s 11ms/step - loss: 17.0443 - mae: 17.0443\n",
            "Epoch 18/100\n",
            "1/1 [==============================] - 0s 10ms/step - loss: 16.7630 - mae: 16.7630\n",
            "Epoch 19/100\n",
            "1/1 [==============================] - 0s 11ms/step - loss: 16.4818 - mae: 16.4818\n",
            "Epoch 20/100\n",
            "1/1 [==============================] - 0s 10ms/step - loss: 16.2005 - mae: 16.2005\n",
            "Epoch 21/100\n",
            "1/1 [==============================] - 0s 14ms/step - loss: 15.9193 - mae: 15.9193\n",
            "Epoch 22/100\n",
            "1/1 [==============================] - 0s 9ms/step - loss: 15.6380 - mae: 15.6380\n",
            "Epoch 23/100\n",
            "1/1 [==============================] - 0s 10ms/step - loss: 15.3568 - mae: 15.3568\n",
            "Epoch 24/100\n",
            "1/1 [==============================] - 0s 9ms/step - loss: 15.0755 - mae: 15.0755\n",
            "Epoch 25/100\n",
            "1/1 [==============================] - 0s 10ms/step - loss: 14.7943 - mae: 14.7943\n",
            "Epoch 26/100\n",
            "1/1 [==============================] - 0s 7ms/step - loss: 14.5866 - mae: 14.5866\n",
            "Epoch 27/100\n",
            "1/1 [==============================] - 0s 10ms/step - loss: 14.4541 - mae: 14.4541\n",
            "Epoch 28/100\n",
            "1/1 [==============================] - 0s 8ms/step - loss: 14.3216 - mae: 14.3216\n",
            "Epoch 29/100\n",
            "1/1 [==============================] - 0s 9ms/step - loss: 14.1891 - mae: 14.1891\n",
            "Epoch 30/100\n",
            "1/1 [==============================] - 0s 12ms/step - loss: 14.0566 - mae: 14.0566\n",
            "Epoch 31/100\n",
            "1/1 [==============================] - 0s 9ms/step - loss: 13.9241 - mae: 13.9241\n",
            "Epoch 32/100\n",
            "1/1 [==============================] - 0s 10ms/step - loss: 13.7916 - mae: 13.7916\n",
            "Epoch 33/100\n",
            "1/1 [==============================] - 0s 10ms/step - loss: 13.6591 - mae: 13.6591\n",
            "Epoch 34/100\n",
            "1/1 [==============================] - 0s 9ms/step - loss: 13.5266 - mae: 13.5266\n",
            "Epoch 35/100\n",
            "1/1 [==============================] - 0s 9ms/step - loss: 13.3941 - mae: 13.3941\n",
            "Epoch 36/100\n",
            "1/1 [==============================] - 0s 10ms/step - loss: 13.2616 - mae: 13.2616\n",
            "Epoch 37/100\n",
            "1/1 [==============================] - 0s 8ms/step - loss: 13.1291 - mae: 13.1291\n",
            "Epoch 38/100\n",
            "1/1 [==============================] - 0s 10ms/step - loss: 12.9966 - mae: 12.9966\n",
            "Epoch 39/100\n",
            "1/1 [==============================] - 0s 9ms/step - loss: 12.8641 - mae: 12.8641\n",
            "Epoch 40/100\n",
            "1/1 [==============================] - 0s 9ms/step - loss: 12.7316 - mae: 12.7316\n",
            "Epoch 41/100\n",
            "1/1 [==============================] - 0s 16ms/step - loss: 12.5991 - mae: 12.5991\n",
            "Epoch 42/100\n",
            "1/1 [==============================] - 0s 9ms/step - loss: 12.4666 - mae: 12.4666\n",
            "Epoch 43/100\n",
            "1/1 [==============================] - 0s 9ms/step - loss: 12.3341 - mae: 12.3341\n",
            "Epoch 44/100\n",
            "1/1 [==============================] - 0s 9ms/step - loss: 12.2016 - mae: 12.2016\n",
            "Epoch 45/100\n",
            "1/1 [==============================] - 0s 9ms/step - loss: 12.0691 - mae: 12.0691\n",
            "Epoch 46/100\n",
            "1/1 [==============================] - 0s 9ms/step - loss: 11.9366 - mae: 11.9366\n",
            "Epoch 47/100\n",
            "1/1 [==============================] - 0s 8ms/step - loss: 11.8041 - mae: 11.8041\n",
            "Epoch 48/100\n",
            "1/1 [==============================] - 0s 8ms/step - loss: 11.6716 - mae: 11.6716\n",
            "Epoch 49/100\n",
            "1/1 [==============================] - 0s 9ms/step - loss: 11.5391 - mae: 11.5391\n",
            "Epoch 50/100\n",
            "1/1 [==============================] - 0s 9ms/step - loss: 11.4066 - mae: 11.4066\n",
            "Epoch 51/100\n",
            "1/1 [==============================] - 0s 10ms/step - loss: 11.2741 - mae: 11.2741\n",
            "Epoch 52/100\n",
            "1/1 [==============================] - 0s 10ms/step - loss: 11.1416 - mae: 11.1416\n",
            "Epoch 53/100\n",
            "1/1 [==============================] - 0s 9ms/step - loss: 11.0091 - mae: 11.0091\n",
            "Epoch 54/100\n",
            "1/1 [==============================] - 0s 8ms/step - loss: 10.8766 - mae: 10.8766\n",
            "Epoch 55/100\n",
            "1/1 [==============================] - 0s 8ms/step - loss: 10.7441 - mae: 10.7441\n",
            "Epoch 56/100\n",
            "1/1 [==============================] - 0s 7ms/step - loss: 10.6116 - mae: 10.6116\n",
            "Epoch 57/100\n",
            "1/1 [==============================] - 0s 8ms/step - loss: 10.4791 - mae: 10.4791\n",
            "Epoch 58/100\n",
            "1/1 [==============================] - 0s 9ms/step - loss: 10.3466 - mae: 10.3466\n",
            "Epoch 59/100\n",
            "1/1 [==============================] - 0s 8ms/step - loss: 10.2141 - mae: 10.2141\n",
            "Epoch 60/100\n",
            "1/1 [==============================] - 0s 8ms/step - loss: 10.0816 - mae: 10.0816\n",
            "Epoch 61/100\n",
            "1/1 [==============================] - 0s 8ms/step - loss: 9.9491 - mae: 9.9491\n",
            "Epoch 62/100\n",
            "1/1 [==============================] - 0s 8ms/step - loss: 9.8166 - mae: 9.8166\n",
            "Epoch 63/100\n",
            "1/1 [==============================] - 0s 8ms/step - loss: 9.6841 - mae: 9.6841\n",
            "Epoch 64/100\n",
            "1/1 [==============================] - 0s 9ms/step - loss: 9.5516 - mae: 9.5516\n",
            "Epoch 65/100\n",
            "1/1 [==============================] - 0s 13ms/step - loss: 9.4191 - mae: 9.4191\n",
            "Epoch 66/100\n",
            "1/1 [==============================] - 0s 9ms/step - loss: 9.2866 - mae: 9.2866\n",
            "Epoch 67/100\n",
            "1/1 [==============================] - 0s 9ms/step - loss: 9.1541 - mae: 9.1541\n",
            "Epoch 68/100\n",
            "1/1 [==============================] - 0s 8ms/step - loss: 9.0216 - mae: 9.0216\n",
            "Epoch 69/100\n",
            "1/1 [==============================] - 0s 8ms/step - loss: 8.8891 - mae: 8.8891\n",
            "Epoch 70/100\n",
            "1/1 [==============================] - 0s 8ms/step - loss: 8.7566 - mae: 8.7566\n",
            "Epoch 71/100\n",
            "1/1 [==============================] - 0s 8ms/step - loss: 8.6241 - mae: 8.6241\n",
            "Epoch 72/100\n",
            "1/1 [==============================] - 0s 8ms/step - loss: 8.4916 - mae: 8.4916\n",
            "Epoch 73/100\n",
            "1/1 [==============================] - 0s 8ms/step - loss: 8.3591 - mae: 8.3591\n",
            "Epoch 74/100\n",
            "1/1 [==============================] - 0s 8ms/step - loss: 8.2266 - mae: 8.2266\n",
            "Epoch 75/100\n",
            "1/1 [==============================] - 0s 8ms/step - loss: 8.0941 - mae: 8.0941\n",
            "Epoch 76/100\n",
            "1/1 [==============================] - 0s 8ms/step - loss: 7.9616 - mae: 7.9616\n",
            "Epoch 77/100\n",
            "1/1 [==============================] - 0s 8ms/step - loss: 7.8291 - mae: 7.8291\n",
            "Epoch 78/100\n",
            "1/1 [==============================] - 0s 7ms/step - loss: 7.6966 - mae: 7.6966\n",
            "Epoch 79/100\n",
            "1/1 [==============================] - 0s 8ms/step - loss: 7.5641 - mae: 7.5641\n",
            "Epoch 80/100\n",
            "1/1 [==============================] - 0s 8ms/step - loss: 7.4316 - mae: 7.4316\n",
            "Epoch 81/100\n",
            "1/1 [==============================] - 0s 8ms/step - loss: 7.2991 - mae: 7.2991\n",
            "Epoch 82/100\n",
            "1/1 [==============================] - 0s 8ms/step - loss: 7.1666 - mae: 7.1666\n",
            "Epoch 83/100\n",
            "1/1 [==============================] - 0s 8ms/step - loss: 7.0341 - mae: 7.0341\n",
            "Epoch 84/100\n",
            "1/1 [==============================] - 0s 8ms/step - loss: 6.9319 - mae: 6.9319\n",
            "Epoch 85/100\n",
            "1/1 [==============================] - 0s 8ms/step - loss: 6.9263 - mae: 6.9263\n",
            "Epoch 86/100\n",
            "1/1 [==============================] - 0s 8ms/step - loss: 6.9206 - mae: 6.9206\n",
            "Epoch 87/100\n",
            "1/1 [==============================] - 0s 8ms/step - loss: 6.9150 - mae: 6.9150\n",
            "Epoch 88/100\n",
            "1/1 [==============================] - 0s 9ms/step - loss: 6.9094 - mae: 6.9094\n",
            "Epoch 89/100\n",
            "1/1 [==============================] - 0s 9ms/step - loss: 6.9038 - mae: 6.9038\n",
            "Epoch 90/100\n",
            "1/1 [==============================] - 0s 8ms/step - loss: 6.8981 - mae: 6.8981\n",
            "Epoch 91/100\n",
            "1/1 [==============================] - 0s 9ms/step - loss: 6.8925 - mae: 6.8925\n",
            "Epoch 92/100\n",
            "1/1 [==============================] - 0s 8ms/step - loss: 6.8869 - mae: 6.8869\n",
            "Epoch 93/100\n",
            "1/1 [==============================] - 0s 9ms/step - loss: 6.8813 - mae: 6.8813\n",
            "Epoch 94/100\n",
            "1/1 [==============================] - 0s 9ms/step - loss: 6.8756 - mae: 6.8756\n",
            "Epoch 95/100\n",
            "1/1 [==============================] - 0s 10ms/step - loss: 6.8700 - mae: 6.8700\n",
            "Epoch 96/100\n",
            "1/1 [==============================] - 0s 14ms/step - loss: 6.8644 - mae: 6.8644\n",
            "Epoch 97/100\n",
            "1/1 [==============================] - 0s 8ms/step - loss: 6.8588 - mae: 6.8588\n",
            "Epoch 98/100\n",
            "1/1 [==============================] - 0s 10ms/step - loss: 6.8531 - mae: 6.8531\n",
            "Epoch 99/100\n",
            "1/1 [==============================] - 0s 9ms/step - loss: 6.8475 - mae: 6.8475\n",
            "Epoch 100/100\n",
            "1/1 [==============================] - 0s 9ms/step - loss: 6.8419 - mae: 6.8419\n"
          ]
        },
        {
          "output_type": "execute_result",
          "data": {
            "text/plain": [
              "<keras.callbacks.History at 0x7fd918a2d730>"
            ]
          },
          "metadata": {},
          "execution_count": 13
        }
      ]
    },
    {
      "cell_type": "code",
      "source": [
        "y_pred = model.predict([17.0])\n",
        "y_pred"
      ],
      "metadata": {
        "colab": {
          "base_uri": "https://localhost:8080/"
        },
        "id": "Z5GKRIlv3gq5",
        "outputId": "b656c4cf-4ade-4387-e4c0-a4098409779e"
      },
      "execution_count": null,
      "outputs": [
        {
          "output_type": "stream",
          "name": "stdout",
          "text": [
            "1/1 [==============================] - 0s 89ms/step\n"
          ]
        },
        {
          "output_type": "execute_result",
          "data": {
            "text/plain": [
              "array([[29.255096]], dtype=float32)"
            ]
          },
          "metadata": {},
          "execution_count": 14
        }
      ]
    },
    {
      "cell_type": "code",
      "source": [
        "model = tf.keras.Sequential([\n",
        "    tf.keras.layers.Dense(100,activation=\"relu\"),\n",
        "    tf.keras.layers.Dense(1)\n",
        "])\n",
        "\n",
        "model.compile(loss = tf.keras.losses.mae,\n",
        "              optimizer = tf.keras.optimizers.Adam(lr=0.01),\n",
        "              metrics = [\"mae\"])\n",
        "\n",
        "model.fit(tf.expand_dims(x,axis=-1),y,epochs=100)"
      ],
      "metadata": {
        "colab": {
          "base_uri": "https://localhost:8080/"
        },
        "id": "wJW6JgVf50Li",
        "outputId": "90b6ebb0-b421-4bed-a69b-f25b849acb47"
      },
      "execution_count": null,
      "outputs": [
        {
          "output_type": "stream",
          "name": "stderr",
          "text": [
            "WARNING:absl:`lr` is deprecated, please use `learning_rate` instead, or use the legacy optimizer, e.g.,tf.keras.optimizers.legacy.Adam.\n"
          ]
        },
        {
          "output_type": "stream",
          "name": "stdout",
          "text": [
            "Epoch 1/100\n",
            "1/1 [==============================] - 2s 2s/step - loss: 13.0964 - mae: 13.0964\n",
            "Epoch 2/100\n",
            "1/1 [==============================] - 0s 14ms/step - loss: 13.0120 - mae: 13.0120\n",
            "Epoch 3/100\n",
            "1/1 [==============================] - 0s 10ms/step - loss: 12.9276 - mae: 12.9276\n",
            "Epoch 4/100\n",
            "1/1 [==============================] - 0s 20ms/step - loss: 12.8431 - mae: 12.8431\n",
            "Epoch 5/100\n",
            "1/1 [==============================] - 0s 22ms/step - loss: 12.7585 - mae: 12.7585\n",
            "Epoch 6/100\n",
            "1/1 [==============================] - 0s 18ms/step - loss: 12.6738 - mae: 12.6738\n",
            "Epoch 7/100\n",
            "1/1 [==============================] - 0s 43ms/step - loss: 12.5899 - mae: 12.5899\n",
            "Epoch 8/100\n",
            "1/1 [==============================] - 0s 40ms/step - loss: 12.5060 - mae: 12.5060\n",
            "Epoch 9/100\n",
            "1/1 [==============================] - 0s 25ms/step - loss: 12.4221 - mae: 12.4221\n",
            "Epoch 10/100\n",
            "1/1 [==============================] - 0s 16ms/step - loss: 12.3418 - mae: 12.3418\n",
            "Epoch 11/100\n",
            "1/1 [==============================] - 0s 14ms/step - loss: 12.2829 - mae: 12.2829\n",
            "Epoch 12/100\n",
            "1/1 [==============================] - 0s 12ms/step - loss: 12.2235 - mae: 12.2235\n",
            "Epoch 13/100\n",
            "1/1 [==============================] - 0s 13ms/step - loss: 12.1638 - mae: 12.1638\n",
            "Epoch 14/100\n",
            "1/1 [==============================] - 0s 19ms/step - loss: 12.1038 - mae: 12.1038\n",
            "Epoch 15/100\n",
            "1/1 [==============================] - 0s 9ms/step - loss: 12.0434 - mae: 12.0434\n",
            "Epoch 16/100\n",
            "1/1 [==============================] - 0s 11ms/step - loss: 11.9826 - mae: 11.9826\n",
            "Epoch 17/100\n",
            "1/1 [==============================] - 0s 26ms/step - loss: 11.9215 - mae: 11.9215\n",
            "Epoch 18/100\n",
            "1/1 [==============================] - 0s 51ms/step - loss: 11.8601 - mae: 11.8601\n",
            "Epoch 19/100\n",
            "1/1 [==============================] - 0s 24ms/step - loss: 11.7984 - mae: 11.7984\n",
            "Epoch 20/100\n",
            "1/1 [==============================] - 0s 7ms/step - loss: 11.7365 - mae: 11.7365\n",
            "Epoch 21/100\n",
            "1/1 [==============================] - 0s 30ms/step - loss: 11.6742 - mae: 11.6742\n",
            "Epoch 22/100\n",
            "1/1 [==============================] - 0s 21ms/step - loss: 11.6117 - mae: 11.6117\n",
            "Epoch 23/100\n",
            "1/1 [==============================] - 0s 18ms/step - loss: 11.5489 - mae: 11.5489\n",
            "Epoch 24/100\n",
            "1/1 [==============================] - 0s 19ms/step - loss: 11.4858 - mae: 11.4858\n",
            "Epoch 25/100\n",
            "1/1 [==============================] - 0s 22ms/step - loss: 11.4225 - mae: 11.4225\n",
            "Epoch 26/100\n",
            "1/1 [==============================] - 0s 20ms/step - loss: 11.3590 - mae: 11.3590\n",
            "Epoch 27/100\n",
            "1/1 [==============================] - 0s 14ms/step - loss: 11.2952 - mae: 11.2952\n",
            "Epoch 28/100\n",
            "1/1 [==============================] - 0s 20ms/step - loss: 11.2311 - mae: 11.2311\n",
            "Epoch 29/100\n",
            "1/1 [==============================] - 0s 11ms/step - loss: 11.1667 - mae: 11.1667\n",
            "Epoch 30/100\n",
            "1/1 [==============================] - 0s 13ms/step - loss: 11.1021 - mae: 11.1021\n",
            "Epoch 31/100\n",
            "1/1 [==============================] - 0s 23ms/step - loss: 11.0373 - mae: 11.0373\n",
            "Epoch 32/100\n",
            "1/1 [==============================] - 0s 21ms/step - loss: 10.9722 - mae: 10.9722\n",
            "Epoch 33/100\n",
            "1/1 [==============================] - 0s 20ms/step - loss: 10.9068 - mae: 10.9068\n",
            "Epoch 34/100\n",
            "1/1 [==============================] - 0s 15ms/step - loss: 10.8412 - mae: 10.8412\n",
            "Epoch 35/100\n",
            "1/1 [==============================] - 0s 15ms/step - loss: 10.7753 - mae: 10.7753\n",
            "Epoch 36/100\n",
            "1/1 [==============================] - 0s 14ms/step - loss: 10.7090 - mae: 10.7090\n",
            "Epoch 37/100\n",
            "1/1 [==============================] - 0s 13ms/step - loss: 10.6425 - mae: 10.6425\n",
            "Epoch 38/100\n",
            "1/1 [==============================] - 0s 12ms/step - loss: 10.5758 - mae: 10.5758\n",
            "Epoch 39/100\n",
            "1/1 [==============================] - 0s 14ms/step - loss: 10.5087 - mae: 10.5087\n",
            "Epoch 40/100\n",
            "1/1 [==============================] - 0s 13ms/step - loss: 10.4414 - mae: 10.4414\n",
            "Epoch 41/100\n",
            "1/1 [==============================] - 0s 13ms/step - loss: 10.3739 - mae: 10.3739\n",
            "Epoch 42/100\n",
            "1/1 [==============================] - 0s 16ms/step - loss: 10.3062 - mae: 10.3062\n",
            "Epoch 43/100\n",
            "1/1 [==============================] - 0s 18ms/step - loss: 10.2384 - mae: 10.2384\n",
            "Epoch 44/100\n",
            "1/1 [==============================] - 0s 16ms/step - loss: 10.1702 - mae: 10.1702\n",
            "Epoch 45/100\n",
            "1/1 [==============================] - 0s 18ms/step - loss: 10.1016 - mae: 10.1016\n",
            "Epoch 46/100\n",
            "1/1 [==============================] - 0s 18ms/step - loss: 10.0327 - mae: 10.0327\n",
            "Epoch 47/100\n",
            "1/1 [==============================] - 0s 16ms/step - loss: 9.9634 - mae: 9.9634\n",
            "Epoch 48/100\n",
            "1/1 [==============================] - 0s 15ms/step - loss: 9.8937 - mae: 9.8937\n",
            "Epoch 49/100\n",
            "1/1 [==============================] - 0s 19ms/step - loss: 9.8237 - mae: 9.8237\n",
            "Epoch 50/100\n",
            "1/1 [==============================] - 0s 23ms/step - loss: 9.7533 - mae: 9.7533\n",
            "Epoch 51/100\n",
            "1/1 [==============================] - 0s 16ms/step - loss: 9.6824 - mae: 9.6824\n",
            "Epoch 52/100\n",
            "1/1 [==============================] - 0s 18ms/step - loss: 9.6112 - mae: 9.6112\n",
            "Epoch 53/100\n",
            "1/1 [==============================] - 0s 16ms/step - loss: 9.5396 - mae: 9.5396\n",
            "Epoch 54/100\n",
            "1/1 [==============================] - 0s 19ms/step - loss: 9.4701 - mae: 9.4701\n",
            "Epoch 55/100\n",
            "1/1 [==============================] - 0s 18ms/step - loss: 9.3993 - mae: 9.3993\n",
            "Epoch 56/100\n",
            "1/1 [==============================] - 0s 17ms/step - loss: 9.3246 - mae: 9.3246\n",
            "Epoch 57/100\n",
            "1/1 [==============================] - 0s 16ms/step - loss: 9.2527 - mae: 9.2527\n",
            "Epoch 58/100\n",
            "1/1 [==============================] - 0s 17ms/step - loss: 9.1804 - mae: 9.1804\n",
            "Epoch 59/100\n",
            "1/1 [==============================] - 0s 18ms/step - loss: 9.1075 - mae: 9.1075\n",
            "Epoch 60/100\n",
            "1/1 [==============================] - 0s 18ms/step - loss: 9.0341 - mae: 9.0341\n",
            "Epoch 61/100\n",
            "1/1 [==============================] - 0s 17ms/step - loss: 8.9600 - mae: 8.9600\n",
            "Epoch 62/100\n",
            "1/1 [==============================] - 0s 20ms/step - loss: 8.8854 - mae: 8.8854\n",
            "Epoch 63/100\n",
            "1/1 [==============================] - 0s 19ms/step - loss: 8.8103 - mae: 8.8103\n",
            "Epoch 64/100\n",
            "1/1 [==============================] - 0s 18ms/step - loss: 8.7346 - mae: 8.7346\n",
            "Epoch 65/100\n",
            "1/1 [==============================] - 0s 15ms/step - loss: 8.6584 - mae: 8.6584\n",
            "Epoch 66/100\n",
            "1/1 [==============================] - 0s 15ms/step - loss: 8.5840 - mae: 8.5840\n",
            "Epoch 67/100\n",
            "1/1 [==============================] - 0s 15ms/step - loss: 8.5048 - mae: 8.5048\n",
            "Epoch 68/100\n",
            "1/1 [==============================] - 0s 12ms/step - loss: 8.4269 - mae: 8.4269\n",
            "Epoch 69/100\n",
            "1/1 [==============================] - 0s 17ms/step - loss: 8.3481 - mae: 8.3481\n",
            "Epoch 70/100\n",
            "1/1 [==============================] - 0s 13ms/step - loss: 8.2686 - mae: 8.2686\n",
            "Epoch 71/100\n",
            "1/1 [==============================] - 0s 18ms/step - loss: 8.1884 - mae: 8.1884\n",
            "Epoch 72/100\n",
            "1/1 [==============================] - 0s 18ms/step - loss: 8.1089 - mae: 8.1089\n",
            "Epoch 73/100\n",
            "1/1 [==============================] - 0s 18ms/step - loss: 8.0267 - mae: 8.0267\n",
            "Epoch 74/100\n",
            "1/1 [==============================] - 0s 22ms/step - loss: 7.9452 - mae: 7.9452\n",
            "Epoch 75/100\n",
            "1/1 [==============================] - 0s 14ms/step - loss: 7.8629 - mae: 7.8629\n",
            "Epoch 76/100\n",
            "1/1 [==============================] - 0s 17ms/step - loss: 7.7800 - mae: 7.7800\n",
            "Epoch 77/100\n",
            "1/1 [==============================] - 0s 16ms/step - loss: 7.6964 - mae: 7.6964\n",
            "Epoch 78/100\n",
            "1/1 [==============================] - 0s 15ms/step - loss: 7.6125 - mae: 7.6125\n",
            "Epoch 79/100\n",
            "1/1 [==============================] - 0s 14ms/step - loss: 7.5278 - mae: 7.5278\n",
            "Epoch 80/100\n",
            "1/1 [==============================] - 0s 12ms/step - loss: 7.4425 - mae: 7.4425\n",
            "Epoch 81/100\n",
            "1/1 [==============================] - 0s 14ms/step - loss: 7.3568 - mae: 7.3568\n",
            "Epoch 82/100\n",
            "1/1 [==============================] - 0s 14ms/step - loss: 7.2730 - mae: 7.2730\n",
            "Epoch 83/100\n",
            "1/1 [==============================] - 0s 14ms/step - loss: 7.1842 - mae: 7.1842\n",
            "Epoch 84/100\n",
            "1/1 [==============================] - 0s 19ms/step - loss: 7.0973 - mae: 7.0973\n",
            "Epoch 85/100\n",
            "1/1 [==============================] - 0s 15ms/step - loss: 7.0096 - mae: 7.0096\n",
            "Epoch 86/100\n",
            "1/1 [==============================] - 0s 14ms/step - loss: 6.9212 - mae: 6.9212\n",
            "Epoch 87/100\n",
            "1/1 [==============================] - 0s 13ms/step - loss: 6.8322 - mae: 6.8322\n",
            "Epoch 88/100\n",
            "1/1 [==============================] - 0s 17ms/step - loss: 6.7424 - mae: 6.7424\n",
            "Epoch 89/100\n",
            "1/1 [==============================] - 0s 10ms/step - loss: 6.6535 - mae: 6.6535\n",
            "Epoch 90/100\n",
            "1/1 [==============================] - 0s 12ms/step - loss: 6.5618 - mae: 6.5618\n",
            "Epoch 91/100\n",
            "1/1 [==============================] - 0s 12ms/step - loss: 6.4709 - mae: 6.4709\n",
            "Epoch 92/100\n",
            "1/1 [==============================] - 0s 16ms/step - loss: 6.3792 - mae: 6.3792\n",
            "Epoch 93/100\n",
            "1/1 [==============================] - 0s 11ms/step - loss: 6.2870 - mae: 6.2870\n",
            "Epoch 94/100\n",
            "1/1 [==============================] - 0s 13ms/step - loss: 6.1939 - mae: 6.1939\n",
            "Epoch 95/100\n",
            "1/1 [==============================] - 0s 12ms/step - loss: 6.1001 - mae: 6.1001\n",
            "Epoch 96/100\n",
            "1/1 [==============================] - 0s 14ms/step - loss: 6.0055 - mae: 6.0055\n",
            "Epoch 97/100\n",
            "1/1 [==============================] - 0s 13ms/step - loss: 5.9101 - mae: 5.9101\n",
            "Epoch 98/100\n",
            "1/1 [==============================] - 0s 13ms/step - loss: 5.8154 - mae: 5.8154\n",
            "Epoch 99/100\n",
            "1/1 [==============================] - 0s 18ms/step - loss: 5.7180 - mae: 5.7180\n",
            "Epoch 100/100\n",
            "1/1 [==============================] - 0s 15ms/step - loss: 5.6211 - mae: 5.6211\n"
          ]
        },
        {
          "output_type": "execute_result",
          "data": {
            "text/plain": [
              "<keras.callbacks.History at 0x7fd924b55070>"
            ]
          },
          "metadata": {},
          "execution_count": 21
        }
      ]
    },
    {
      "cell_type": "code",
      "source": [
        "model.predict([17.0])"
      ],
      "metadata": {
        "colab": {
          "base_uri": "https://localhost:8080/"
        },
        "id": "PpC5A5oU64S1",
        "outputId": "295a8918-5639-4251-f1e9-ba7d2cf2dc53"
      },
      "execution_count": null,
      "outputs": [
        {
          "output_type": "stream",
          "name": "stderr",
          "text": [
            "WARNING:tensorflow:5 out of the last 7 calls to <function Model.make_predict_function.<locals>.predict_function at 0x7fd924c2ce50> triggered tf.function retracing. Tracing is expensive and the excessive number of tracings could be due to (1) creating @tf.function repeatedly in a loop, (2) passing tensors with different shapes, (3) passing Python objects instead of tensors. For (1), please define your @tf.function outside of the loop. For (2), @tf.function has reduce_retracing=True option that can avoid unnecessary retracing. For (3), please refer to https://www.tensorflow.org/guide/function#controlling_retracing and https://www.tensorflow.org/api_docs/python/tf/function for  more details.\n"
          ]
        },
        {
          "output_type": "stream",
          "name": "stdout",
          "text": [
            "1/1 [==============================] - 0s 69ms/step\n"
          ]
        },
        {
          "output_type": "execute_result",
          "data": {
            "text/plain": [
              "array([[23.604662]], dtype=float32)"
            ]
          },
          "metadata": {},
          "execution_count": 22
        }
      ]
    },
    {
      "cell_type": "code",
      "source": [
        "## Evaluating model performance\n",
        "x = tf.range(-100,100,4)\n",
        "x"
      ],
      "metadata": {
        "colab": {
          "base_uri": "https://localhost:8080/"
        },
        "id": "9D-vlavf7cYO",
        "outputId": "039035b4-d9ca-4de8-eb94-95e437902c25"
      },
      "execution_count": null,
      "outputs": [
        {
          "output_type": "execute_result",
          "data": {
            "text/plain": [
              "<tf.Tensor: shape=(50,), dtype=int32, numpy=\n",
              "array([-100,  -96,  -92,  -88,  -84,  -80,  -76,  -72,  -68,  -64,  -60,\n",
              "        -56,  -52,  -48,  -44,  -40,  -36,  -32,  -28,  -24,  -20,  -16,\n",
              "        -12,   -8,   -4,    0,    4,    8,   12,   16,   20,   24,   28,\n",
              "         32,   36,   40,   44,   48,   52,   56,   60,   64,   68,   72,\n",
              "         76,   80,   84,   88,   92,   96], dtype=int32)>"
            ]
          },
          "metadata": {},
          "execution_count": 23
        }
      ]
    },
    {
      "cell_type": "code",
      "source": [
        "y = x+10\n",
        "y"
      ],
      "metadata": {
        "colab": {
          "base_uri": "https://localhost:8080/"
        },
        "id": "gd6obH1RJ61Q",
        "outputId": "51b52e1a-23e5-45d7-f6bb-923384fa570f"
      },
      "execution_count": null,
      "outputs": [
        {
          "output_type": "execute_result",
          "data": {
            "text/plain": [
              "<tf.Tensor: shape=(50,), dtype=int32, numpy=\n",
              "array([-90, -86, -82, -78, -74, -70, -66, -62, -58, -54, -50, -46, -42,\n",
              "       -38, -34, -30, -26, -22, -18, -14, -10,  -6,  -2,   2,   6,  10,\n",
              "        14,  18,  22,  26,  30,  34,  38,  42,  46,  50,  54,  58,  62,\n",
              "        66,  70,  74,  78,  82,  86,  90,  94,  98, 102, 106], dtype=int32)>"
            ]
          },
          "metadata": {},
          "execution_count": 24
        }
      ]
    },
    {
      "cell_type": "code",
      "source": [
        "import matplotlib.pyplot as plt\n",
        "\n",
        "plt.scatter(x,y)"
      ],
      "metadata": {
        "colab": {
          "base_uri": "https://localhost:8080/",
          "height": 282
        },
        "id": "TlnqvTzAJ9GM",
        "outputId": "dcc1479a-f4be-43db-bfc2-d5154d0b24a5"
      },
      "execution_count": null,
      "outputs": [
        {
          "output_type": "execute_result",
          "data": {
            "text/plain": [
              "<matplotlib.collections.PathCollection at 0x7fd9245fbac0>"
            ]
          },
          "metadata": {},
          "execution_count": 25
        },
        {
          "output_type": "display_data",
          "data": {
            "text/plain": [
              "<Figure size 432x288 with 1 Axes>"
            ],
            "image/png": "[encoded data removed]"
          },
          "metadata": {
            "needs_background": "light"
          }
        }
      ]
    },
    {
      "cell_type": "code",
      "source": [
        "# checking the length of samples\n",
        "len(x)"
      ],
      "metadata": {
        "colab": {
          "base_uri": "https://localhost:8080/"
        },
        "id": "EWC8YyzKKJ-4",
        "outputId": "168313c2-9d53-4af5-d5c4-d36f76748fc9"
      },
      "execution_count": null,
      "outputs": [
        {
          "output_type": "execute_result",
          "data": {
            "text/plain": [
              "50"
            ]
          },
          "metadata": {},
          "execution_count": 27
        }
      ]
    },
    {
      "cell_type": "code",
      "source": [
        "# splitting the data into train-cv-test datasets\n",
        "x_train = x[:40]\n",
        "y_train = y[:40]\n",
        "\n",
        "x_test = x[40:]\n",
        "y_test = y[40:]"
      ],
      "metadata": {
        "id": "rlZEgf95KbkI"
      },
      "execution_count": null,
      "outputs": []
    },
    {
      "cell_type": "code",
      "source": [
        "model.summary()"
      ],
      "metadata": {
        "colab": {
          "base_uri": "https://localhost:8080/"
        },
        "id": "0gQDUVAbLJO2",
        "outputId": "74beeeae-0fe3-417e-aaa3-3838e81ac22f"
      },
      "execution_count": null,
      "outputs": [
        {
          "output_type": "stream",
          "name": "stdout",
          "text": [
            "Model: \"sequential_5\"\n",
            "_________________________________________________________________\n",
            " Layer (type)                Output Shape              Param #   \n",
            "=================================================================\n",
            " dense_10 (Dense)            (None, 100)               200       \n",
            "                                                                 \n",
            " dense_11 (Dense)            (None, 1)                 101       \n",
            "                                                                 \n",
            "=================================================================\n",
            "Total params: 301\n",
            "Trainable params: 301\n",
            "Non-trainable params: 0\n",
            "_________________________________________________________________\n"
          ]
        }
      ]
    },
    {
      "cell_type": "code",
      "source": [
        "model.fit(tf.expand_dims(x,axis=-1),y,epochs=10,verbose=1)"
      ],
      "metadata": {
        "colab": {
          "base_uri": "https://localhost:8080/"
        },
        "id": "GM3JIazWMpnr",
        "outputId": "c1bf2b74-f636-48d0-9c97-45271be377d9"
      },
      "execution_count": null,
      "outputs": [
        {
          "output_type": "stream",
          "name": "stdout",
          "text": [
            "Epoch 1/10\n",
            "2/2 [==============================] - 0s 7ms/step - loss: 6.4108 - mae: 6.4108\n",
            "Epoch 2/10\n",
            "2/2 [==============================] - 0s 7ms/step - loss: 5.3181 - mae: 5.3181\n",
            "Epoch 3/10\n",
            "2/2 [==============================] - 0s 7ms/step - loss: 4.6930 - mae: 4.6930\n",
            "Epoch 4/10\n",
            "2/2 [==============================] - 0s 6ms/step - loss: 4.1166 - mae: 4.1166\n",
            "Epoch 5/10\n",
            "2/2 [==============================] - 0s 6ms/step - loss: 3.9993 - mae: 3.9993\n",
            "Epoch 6/10\n",
            "2/2 [==============================] - 0s 6ms/step - loss: 4.2083 - mae: 4.2083\n",
            "Epoch 7/10\n",
            "2/2 [==============================] - 0s 6ms/step - loss: 4.4982 - mae: 4.4982\n",
            "Epoch 8/10\n",
            "2/2 [==============================] - 0s 6ms/step - loss: 4.4183 - mae: 4.4183\n",
            "Epoch 9/10\n",
            "2/2 [==============================] - 0s 6ms/step - loss: 4.1258 - mae: 4.1258\n",
            "Epoch 10/10\n",
            "2/2 [==============================] - 0s 6ms/step - loss: 3.9151 - mae: 3.9151\n"
          ]
        },
        {
          "output_type": "execute_result",
          "data": {
            "text/plain": [
              "<keras.callbacks.History at 0x7fd924500c10>"
            ]
          },
          "metadata": {},
          "execution_count": 34
        }
      ]
    },
    {
      "cell_type": "code",
      "source": [
        "model.summary()"
      ],
      "metadata": {
        "colab": {
          "base_uri": "https://localhost:8080/"
        },
        "id": "5-kkdIT2N9oB",
        "outputId": "b4767bdb-8b1f-4958-a9c1-2690c633e65f"
      },
      "execution_count": null,
      "outputs": [
        {
          "output_type": "stream",
          "name": "stdout",
          "text": [
            "Model: \"sequential_5\"\n",
            "_________________________________________________________________\n",
            " Layer (type)                Output Shape              Param #   \n",
            "=================================================================\n",
            " dense_10 (Dense)            (None, 100)               200       \n",
            "                                                                 \n",
            " dense_11 (Dense)            (None, 1)                 101       \n",
            "                                                                 \n",
            "=================================================================\n",
            "Total params: 301\n",
            "Trainable params: 301\n",
            "Non-trainable params: 0\n",
            "_________________________________________________________________\n"
          ]
        }
      ]
    },
    {
      "cell_type": "code",
      "source": [
        "from tensorflow.keras.utils import plot_model\n",
        "\n",
        "plot_model(model,show_shapes=True)"
      ],
      "metadata": {
        "colab": {
          "base_uri": "https://localhost:8080/",
          "height": 312
        },
        "id": "-8VvdMoNOHHi",
        "outputId": "e0c4f501-6abb-4b42-ff72-27a23529ef74"
      },
      "execution_count": null,
      "outputs": [
        {
          "output_type": "execute_result",
          "data": {
            "image/png": "[encoded data removed]",
            "text/plain": [
              "<IPython.core.display.Image object>"
            ]
          },
          "metadata": {},
          "execution_count": 38
        }
      ]
    },
    {
      "cell_type": "code",
      "source": [
        "# visualize the model predictions\n",
        "#y_test VS y_pred\n",
        "\n",
        "y_pred = model.predict(x_test)"
      ],
      "metadata": {
        "colab": {
          "base_uri": "https://localhost:8080/"
        },
        "id": "BlogVpmXOYBr",
        "outputId": "f73344c1-e5ae-4df8-e6d8-bb6326dc59b5"
      },
      "execution_count": null,
      "outputs": [
        {
          "output_type": "stream",
          "name": "stderr",
          "text": [
            "WARNING:tensorflow:6 out of the last 8 calls to <function Model.make_predict_function.<locals>.predict_function at 0x7fd924c2ce50> triggered tf.function retracing. Tracing is expensive and the excessive number of tracings could be due to (1) creating @tf.function repeatedly in a loop, (2) passing tensors with different shapes, (3) passing Python objects instead of tensors. For (1), please define your @tf.function outside of the loop. For (2), @tf.function has reduce_retracing=True option that can avoid unnecessary retracing. For (3), please refer to https://www.tensorflow.org/guide/function#controlling_retracing and https://www.tensorflow.org/api_docs/python/tf/function for  more details.\n"
          ]
        },
        {
          "output_type": "stream",
          "name": "stdout",
          "text": [
            "1/1 [==============================] - 0s 72ms/step\n"
          ]
        }
      ]
    },
    {
      "cell_type": "code",
      "source": [
        "y_pred,y_test"
      ],
      "metadata": {
        "colab": {
          "base_uri": "https://localhost:8080/"
        },
        "id": "kUumgjOrPGAJ",
        "outputId": "c9c92a63-acdb-417a-b127-4b0d779282b7"
      },
      "execution_count": null,
      "outputs": [
        {
          "output_type": "execute_result",
          "data": {
            "text/plain": [
              "(array([[ 69.02007 ],\n",
              "        [ 73.54617 ],\n",
              "        [ 78.072266],\n",
              "        [ 82.598366],\n",
              "        [ 87.124466],\n",
              "        [ 91.650566],\n",
              "        [ 96.17667 ],\n",
              "        [100.70277 ],\n",
              "        [105.228874],\n",
              "        [109.75497 ]], dtype=float32),\n",
              " <tf.Tensor: shape=(10,), dtype=int32, numpy=array([ 70,  74,  78,  82,  86,  90,  94,  98, 102, 106], dtype=int32)>)"
            ]
          },
          "metadata": {},
          "execution_count": 40
        }
      ]
    },
    {
      "cell_type": "code",
      "source": [
        "def plot_predictions(x_train,y_train,x_test,y_test,y_pred):\n",
        "  plt.scatter(x_train,y_train,c=\"r\",label=\"train\")\n",
        "  plt.scatter(x_test,y_test,c=\"g\",label=\"test\")\n",
        "  plt.scatter(x_test,y_pred,c=\"b\",label=\"pred\")\n",
        "  plt.legend()\n",
        "plot_predictions(x_train,y_train,x_test,y_test,y_pred)"
      ],
      "metadata": {
        "colab": {
          "base_uri": "https://localhost:8080/",
          "height": 265
        },
        "id": "StO7ytCaPJyt",
        "outputId": "8cf6430a-5a5a-4097-ab53-0e327d2d1e43"
      },
      "execution_count": null,
      "outputs": [
        {
          "output_type": "display_data",
          "data": {
            "text/plain": [
              "<Figure size 432x288 with 1 Axes>"
            ],
            "image/png": "[encoded data removed]"
          },
          "metadata": {
            "needs_background": "light"
          }
        }
      ]
    },
    {
      "cell_type": "code",
      "source": [
        "# Evaluating the model \n",
        "\n",
        "model.evaluate(x_test,y_test)"
      ],
      "metadata": {
        "colab": {
          "base_uri": "https://localhost:8080/"
        },
        "id": "2NEok76rP58b",
        "outputId": "bd51647d-0e95-4d17-cddc-d1ab5cd6ee4e"
      },
      "execution_count": null,
      "outputs": [
        {
          "output_type": "stream",
          "name": "stdout",
          "text": [
            "1/1 [==============================] - 0s 436ms/step - loss: 1.6743 - mae: 1.6743\n"
          ]
        },
        {
          "output_type": "execute_result",
          "data": {
            "text/plain": [
              "[1.6742706298828125, 1.6742706298828125]"
            ]
          },
          "metadata": {},
          "execution_count": 44
        }
      ]
    },
    {
      "cell_type": "code",
      "source": [
        "# tf.metrics.mean_absolute_error(y_test,y_pred) -- give non desired output due to extra dim in y_pred\n",
        "\n",
        "tf.squeeze(y_pred)"
      ],
      "metadata": {
        "colab": {
          "base_uri": "https://localhost:8080/"
        },
        "id": "7GAgaQrZQdVm",
        "outputId": "4c8609b9-6edf-42b1-b19c-fae01238c889"
      },
      "execution_count": null,
      "outputs": [
        {
          "output_type": "execute_result",
          "data": {
            "text/plain": [
              "<tf.Tensor: shape=(10,), dtype=float32, numpy=\n",
              "array([ 69.02007 ,  73.54617 ,  78.072266,  82.598366,  87.124466,\n",
              "        91.650566,  96.17667 , 100.70277 , 105.228874, 109.75497 ],\n",
              "      dtype=float32)>"
            ]
          },
          "metadata": {},
          "execution_count": 46
        }
      ]
    },
    {
      "cell_type": "code",
      "source": [
        "tf.metrics.mean_absolute_error(y_test,tf.squeeze(y_pred))"
      ],
      "metadata": {
        "colab": {
          "base_uri": "https://localhost:8080/"
        },
        "id": "xiqAFNrOQwU2",
        "outputId": "f497b809-ab90-4443-a62d-e1da1e3c7fc8"
      },
      "execution_count": null,
      "outputs": [
        {
          "output_type": "execute_result",
          "data": {
            "text/plain": [
              "<tf.Tensor: shape=(), dtype=float32, numpy=1.6742691>"
            ]
          },
          "metadata": {},
          "execution_count": 47
        }
      ]
    },
    {
      "cell_type": "code",
      "source": [
        "tf.metrics.mean_squared_error(y_test,tf.squeeze(y_pred))"
      ],
      "metadata": {
        "colab": {
          "base_uri": "https://localhost:8080/"
        },
        "id": "tXgJ8w9XSlwp",
        "outputId": "b43f425c-8f9b-4499-9579-aff67ee5339a"
      },
      "execution_count": null,
      "outputs": [
        {
          "output_type": "execute_result",
          "data": {
            "text/plain": [
              "<tf.Tensor: shape=(), dtype=float32, numpy=4.2086496>"
            ]
          },
          "metadata": {},
          "execution_count": 48
        }
      ]
    },
    {
      "cell_type": "code",
      "source": [
        "def mae(y_test,y_pred):\n",
        "  return tf.metrics.mean_absolute_error(y_test,tf.squeeze(y_pred))\n",
        "\n",
        "def mse(y_test,y_pred):\n",
        "  return tf.metrics.mean_squared_error(y_test,tf.squeeze(y_pred))\n",
        "  "
      ],
      "metadata": {
        "id": "hdEBGFk2SyD6"
      },
      "execution_count": null,
      "outputs": []
    },
    {
      "cell_type": "code",
      "source": [
        "# Saving our models\n",
        "\n",
        "model.save(\"best_model\")"
      ],
      "metadata": {
        "colab": {
          "base_uri": "https://localhost:8080/"
        },
        "id": "3pcmMuXUTFaB",
        "outputId": "9ad50625-0dd3-4f29-9ed6-c4cfb01a9678"
      },
      "execution_count": null,
      "outputs": [
        {
          "output_type": "stream",
          "name": "stderr",
          "text": [
            "WARNING:absl:Found untraced functions such as _update_step_xla while saving (showing 1 of 1). These functions will not be directly callable after loading.\n"
          ]
        }
      ]
    },
    {
      "cell_type": "code",
      "source": [
        "model.save(\"best_model1.h5\")"
      ],
      "metadata": {
        "id": "Op0YuwCYVxYP"
      },
      "execution_count": null,
      "outputs": []
    },
    {
      "cell_type": "code",
      "source": [
        "#Loading the saved model\n",
        "\n",
        "load_model = tf.keras.models.load_model(\"/content/best_model1.h5\")"
      ],
      "metadata": {
        "id": "eyY9ZXD0WOFT"
      },
      "execution_count": null,
      "outputs": []
    },
    {
      "cell_type": "code",
      "source": [
        "load_model.summary()"
      ],
      "metadata": {
        "colab": {
          "base_uri": "https://localhost:8080/"
        },
        "id": "HS77OkVJWu-j",
        "outputId": "07b91a20-344b-48b0-faf5-23122035323a"
      },
      "execution_count": null,
      "outputs": [
        {
          "output_type": "stream",
          "name": "stdout",
          "text": [
            "Model: \"sequential_5\"\n",
            "_________________________________________________________________\n",
            " Layer (type)                Output Shape              Param #   \n",
            "=================================================================\n",
            " dense_10 (Dense)            (None, 100)               200       \n",
            "                                                                 \n",
            " dense_11 (Dense)            (None, 1)                 101       \n",
            "                                                                 \n",
            "=================================================================\n",
            "Total params: 301\n",
            "Trainable params: 301\n",
            "Non-trainable params: 0\n",
            "_________________________________________________________________\n"
          ]
        }
      ]
    },
    {
      "cell_type": "code",
      "source": [
        "load_model_normal = tf.keras.models.load_model(\"/content/best_model\")\n",
        "load_model_normal.summary()"
      ],
      "metadata": {
        "colab": {
          "base_uri": "https://localhost:8080/"
        },
        "id": "_bhP_bKBWyHC",
        "outputId": "4d4a5089-68f2-493a-b26e-29f34c69f4f7"
      },
      "execution_count": null,
      "outputs": [
        {
          "output_type": "stream",
          "name": "stdout",
          "text": [
            "Model: \"sequential_5\"\n",
            "_________________________________________________________________\n",
            " Layer (type)                Output Shape              Param #   \n",
            "=================================================================\n",
            " dense_10 (Dense)            (None, 100)               200       \n",
            "                                                                 \n",
            " dense_11 (Dense)            (None, 1)                 101       \n",
            "                                                                 \n",
            "=================================================================\n",
            "Total params: 301\n",
            "Trainable params: 301\n",
            "Non-trainable params: 0\n",
            "_________________________________________________________________\n"
          ]
        }
      ]
    },
    {
      "cell_type": "code",
      "source": [
        "# download the model file\n",
        "from google.colab import files\n",
        "#files.download(\"/content/best_model\")"
      ],
      "metadata": {
        "colab": {
          "base_uri": "https://localhost:8080/",
          "height": 34
        },
        "id": "HLPy7PsiXYka",
        "outputId": "c6810379-d3e8-40cb-f1a4-c114da1d0cea"
      },
      "execution_count": null,
      "outputs": [
        {
          "output_type": "display_data",
          "data": {
            "text/plain": [
              "<IPython.core.display.Javascript object>"
            ],
            "application/javascript": [
              "\n",
              "    async function download(id, filename, size) {\n",
              "      if (!google.colab.kernel.accessAllowed) {\n",
              "        return;\n",
              "      }\n",
              "      const div = document.createElement('div');\n",
              "      const label = document.createElement('label');\n",
              "      label.textContent = `Downloading \"${filename}\": `;\n",
              "      div.appendChild(label);\n",
              "      const progress = document.createElement('progress');\n",
              "      progress.max = size;\n",
              "      div.appendChild(progress);\n",
              "      document.body.appendChild(div);\n",
              "\n",
              "      const buffers = [];\n",
              "      let downloaded = 0;\n",
              "\n",
              "      const channel = await google.colab.kernel.comms.open(id);\n",
              "      // Send a message to notify the kernel that we're ready.\n",
              "      channel.send({})\n",
              "\n",
              "      for await (const message of channel.messages) {\n",
              "        // Send a message to notify the kernel that we're ready.\n",
              "        channel.send({})\n",
              "        if (message.buffers) {\n",
              "          for (const buffer of message.buffers) {\n",
              "            buffers.push(buffer);\n",
              "            downloaded += buffer.byteLength;\n",
              "            progress.value = downloaded;\n",
              "          }\n",
              "        }\n",
              "      }\n",
              "      const blob = new Blob(buffers, {type: 'application/binary'});\n",
              "      const a = document.createElement('a');\n",
              "      a.href = window.URL.createObjectURL(blob);\n",
              "      a.download = filename;\n",
              "      div.appendChild(a);\n",
              "      a.click();\n",
              "      div.remove();\n",
              "    }\n",
              "  "
            ]
          },
          "metadata": {}
        },
        {
          "output_type": "display_data",
          "data": {
            "text/plain": [
              "<IPython.core.display.Javascript object>"
            ],
            "application/javascript": [
              "download(\"download_59be490a-961c-4103-9d82-7080fb608b6d\", \"best_model\", 4096)"
            ]
          },
          "metadata": {}
        }
      ]
    },
    {
      "cell_type": "markdown",
      "source": [
        "# A larger example"
      ],
      "metadata": {
        "id": "seHV10pdYvel"
      }
    },
    {
      "cell_type": "code",
      "source": [
        "import tensorflow as tf\n",
        "import numpy as np\n",
        "import pandas as pd\n",
        "import matplotlib.pyplot as plt"
      ],
      "metadata": {
        "id": "LrWdJKwFX6pE"
      },
      "execution_count": 1,
      "outputs": []
    },
    {
      "cell_type": "code",
      "source": [
        "insurance = pd.read_csv(\"https://raw.githubusercontent.com/stedy/Machine-Learning-with-R-datasets/master/insurance.csv\")\n",
        "insurance"
      ],
      "metadata": {
        "colab": {
          "base_uri": "https://localhost:8080/",
          "height": 423
        },
        "id": "G6iaIWmmZO8M",
        "outputId": "b1117ae3-9407-4030-8055-d67ce190405d"
      },
      "execution_count": 13,
      "outputs": [
        {
          "output_type": "execute_result",
          "data": {
            "text/plain": [
              "      age     sex     bmi  children smoker     region      charges\n",
              "0      19  female  27.900         0    yes  southwest  16884.92400\n",
              "1      18    male  33.770         1     no  southeast   1725.55230\n",
              "2      28    male  33.000         3     no  southeast   4449.46200\n",
              "3      33    male  22.705         0     no  northwest  21984.47061\n",
              "4      32    male  28.880         0     no  northwest   3866.85520\n",
              "...   ...     ...     ...       ...    ...        ...          ...\n",
              "1333   50    male  30.970         3     no  northwest  10600.54830\n",
              "1334   18  female  31.920         0     no  northeast   2205.98080\n",
              "1335   18  female  36.850         0     no  southeast   1629.83350\n",
              "1336   21  female  25.800         0     no  southwest   2007.94500\n",
              "1337   61  female  29.070         0    yes  northwest  29141.36030\n",
              "\n",
              "[1338 rows x 7 columns]"
            ],
            "text/html": [
              "\n",
              "  <div id=\"df-0fa5e07b-955c-44ad-a1e8-584554c84dc0\">\n",
              "    <div class=\"colab-df-container\">\n",
              "      <div>\n",
              "<style scoped>\n",
              "    .dataframe tbody tr th:only-of-type {\n",
              "        vertical-align: middle;\n",
              "    }\n",
              "\n",
              "    .dataframe tbody tr th {\n",
              "        vertical-align: top;\n",
              "    }\n",
              "\n",
              "    .dataframe thead th {\n",
              "        text-align: right;\n",
              "    }\n",
              "</style>\n",
              "<table border=\"1\" class=\"dataframe\">\n",
              "  <thead>\n",
              "    <tr style=\"text-align: right;\">\n",
              "      <th></th>\n",
              "      <th>age</th>\n",
              "      <th>sex</th>\n",
              "      <th>bmi</th>\n",
              "      <th>children</th>\n",
              "      <th>smoker</th>\n",
              "      <th>region</th>\n",
              "      <th>charges</th>\n",
              "    </tr>\n",
              "  </thead>\n",
              "  <tbody>\n",
              "    <tr>\n",
              "      <th>0</th>\n",
              "      <td>19</td>\n",
              "      <td>female</td>\n",
              "      <td>27.900</td>\n",
              "      <td>0</td>\n",
              "      <td>yes</td>\n",
              "      <td>southwest</td>\n",
              "      <td>16884.92400</td>\n",
              "    </tr>\n",
              "    <tr>\n",
              "      <th>1</th>\n",
              "      <td>18</td>\n",
              "      <td>male</td>\n",
              "      <td>33.770</td>\n",
              "      <td>1</td>\n",
              "      <td>no</td>\n",
              "      <td>southeast</td>\n",
              "      <td>1725.55230</td>\n",
              "    </tr>\n",
              "    <tr>\n",
              "      <th>2</th>\n",
              "      <td>28</td>\n",
              "      <td>male</td>\n",
              "      <td>33.000</td>\n",
              "      <td>3</td>\n",
              "      <td>no</td>\n",
              "      <td>southeast</td>\n",
              "      <td>4449.46200</td>\n",
              "    </tr>\n",
              "    <tr>\n",
              "      <th>3</th>\n",
              "      <td>33</td>\n",
              "      <td>male</td>\n",
              "      <td>22.705</td>\n",
              "      <td>0</td>\n",
              "      <td>no</td>\n",
              "      <td>northwest</td>\n",
              "      <td>21984.47061</td>\n",
              "    </tr>\n",
              "    <tr>\n",
              "      <th>4</th>\n",
              "      <td>32</td>\n",
              "      <td>male</td>\n",
              "      <td>28.880</td>\n",
              "      <td>0</td>\n",
              "      <td>no</td>\n",
              "      <td>northwest</td>\n",
              "      <td>3866.85520</td>\n",
              "    </tr>\n",
              "    <tr>\n",
              "      <th>...</th>\n",
              "      <td>...</td>\n",
              "      <td>...</td>\n",
              "      <td>...</td>\n",
              "      <td>...</td>\n",
              "      <td>...</td>\n",
              "      <td>...</td>\n",
              "      <td>...</td>\n",
              "    </tr>\n",
              "    <tr>\n",
              "      <th>1333</th>\n",
              "      <td>50</td>\n",
              "      <td>male</td>\n",
              "      <td>30.970</td>\n",
              "      <td>3</td>\n",
              "      <td>no</td>\n",
              "      <td>northwest</td>\n",
              "      <td>10600.54830</td>\n",
              "    </tr>\n",
              "    <tr>\n",
              "      <th>1334</th>\n",
              "      <td>18</td>\n",
              "      <td>female</td>\n",
              "      <td>31.920</td>\n",
              "      <td>0</td>\n",
              "      <td>no</td>\n",
              "      <td>northeast</td>\n",
              "      <td>2205.98080</td>\n",
              "    </tr>\n",
              "    <tr>\n",
              "      <th>1335</th>\n",
              "      <td>18</td>\n",
              "      <td>female</td>\n",
              "      <td>36.850</td>\n",
              "      <td>0</td>\n",
              "      <td>no</td>\n",
              "      <td>southeast</td>\n",
              "      <td>1629.83350</td>\n",
              "    </tr>\n",
              "    <tr>\n",
              "      <th>1336</th>\n",
              "      <td>21</td>\n",
              "      <td>female</td>\n",
              "      <td>25.800</td>\n",
              "      <td>0</td>\n",
              "      <td>no</td>\n",
              "      <td>southwest</td>\n",
              "      <td>2007.94500</td>\n",
              "    </tr>\n",
              "    <tr>\n",
              "      <th>1337</th>\n",
              "      <td>61</td>\n",
              "      <td>female</td>\n",
              "      <td>29.070</td>\n",
              "      <td>0</td>\n",
              "      <td>yes</td>\n",
              "      <td>northwest</td>\n",
              "      <td>29141.36030</td>\n",
              "    </tr>\n",
              "  </tbody>\n",
              "</table>\n",
              "<p>1338 rows × 7 columns</p>\n",
              "</div>\n",
              "      <button class=\"colab-df-convert\" onclick=\"convertToInteractive('df-0fa5e07b-955c-44ad-a1e8-584554c84dc0')\"\n",
              "              title=\"Convert this dataframe to an interactive table.\"\n",
              "              style=\"display:none;\">\n",
              "        \n",
              "  <svg xmlns=\"http://www.w3.org/2000/svg\" height=\"24px\"viewBox=\"0 0 24 24\"\n",
              "       width=\"24px\">\n",
              "    <path d=\"M0 0h24v24H0V0z\" fill=\"none\"/>\n",
              "    <path d=\"M18.56 5.44l.94 2.06.94-2.06 2.06-.94-2.06-.94-.94-2.06-.94 2.06-2.06.94zm-11 1L8.5 8.5l.94-2.06 2.06-.94-2.06-.94L8.5 2.5l-.94 2.06-2.06.94zm10 10l.94 2.06.94-2.06 2.06-.94-2.06-.94-.94-2.06-.94 2.06-2.06.94z\"/><path d=\"M17.41 7.96l-1.37-1.37c-.4-.4-.92-.59-1.43-.59-.52 0-1.04.2-1.43.59L10.3 9.45l-7.72 7.72c-.78.78-.78 2.05 0 2.83L4 21.41c.39.39.9.59 1.41.59.51 0 1.02-.2 1.41-.59l7.78-7.78 2.81-2.81c.8-.78.8-2.07 0-2.86zM5.41 20L4 18.59l7.72-7.72 1.47 1.35L5.41 20z\"/>\n",
              "  </svg>\n",
              "      </button>\n",
              "      \n",
              "  <style>\n",
              "    .colab-df-container {\n",
              "      display:flex;\n",
              "      flex-wrap:wrap;\n",
              "      gap: 12px;\n",
              "    }\n",
              "\n",
              "    .colab-df-convert {\n",
              "      background-color: #E8F0FE;\n",
              "      border: none;\n",
              "      border-radius: 50%;\n",
              "      cursor: pointer;\n",
              "      display: none;\n",
              "      fill: #1967D2;\n",
              "      height: 32px;\n",
              "      padding: 0 0 0 0;\n",
              "      width: 32px;\n",
              "    }\n",
              "\n",
              "    .colab-df-convert:hover {\n",
              "      background-color: #E2EBFA;\n",
              "      box-shadow: 0px 1px 2px rgba(60, 64, 67, 0.3), 0px 1px 3px 1px rgba(60, 64, 67, 0.15);\n",
              "      fill: #174EA6;\n",
              "    }\n",
              "\n",
              "    [theme=dark] .colab-df-convert {\n",
              "      background-color: #3B4455;\n",
              "      fill: #D2E3FC;\n",
              "    }\n",
              "\n",
              "    [theme=dark] .colab-df-convert:hover {\n",
              "      background-color: #434B5C;\n",
              "      box-shadow: 0px 1px 3px 1px rgba(0, 0, 0, 0.15);\n",
              "      filter: drop-shadow(0px 1px 2px rgba(0, 0, 0, 0.3));\n",
              "      fill: #FFFFFF;\n",
              "    }\n",
              "  </style>\n",
              "\n",
              "      <script>\n",
              "        const buttonEl =\n",
              "          document.querySelector('#df-0fa5e07b-955c-44ad-a1e8-584554c84dc0 button.colab-df-convert');\n",
              "        buttonEl.style.display =\n",
              "          google.colab.kernel.accessAllowed ? 'block' : 'none';\n",
              "\n",
              "        async function convertToInteractive(key) {\n",
              "          const element = document.querySelector('#df-0fa5e07b-955c-44ad-a1e8-584554c84dc0');\n",
              "          const dataTable =\n",
              "            await google.colab.kernel.invokeFunction('convertToInteractive',\n",
              "                                                     [key], {});\n",
              "          if (!dataTable) return;\n",
              "\n",
              "          const docLinkHtml = 'Like what you see? Visit the ' +\n",
              "            '<a target=\"_blank\" href=https://colab.research.google.com/notebooks/data_table.ipynb>data table notebook</a>'\n",
              "            + ' to learn more about interactive tables.';\n",
              "          element.innerHTML = '';\n",
              "          dataTable['output_type'] = 'display_data';\n",
              "          await google.colab.output.renderOutput(dataTable, element);\n",
              "          const docLink = document.createElement('div');\n",
              "          docLink.innerHTML = docLinkHtml;\n",
              "          element.appendChild(docLink);\n",
              "        }\n",
              "      </script>\n",
              "    </div>\n",
              "  </div>\n",
              "  "
            ]
          },
          "metadata": {},
          "execution_count": 13
        }
      ]
    },
    {
      "cell_type": "code",
      "source": [
        " insurance['sex']"
      ],
      "metadata": {
        "colab": {
          "base_uri": "https://localhost:8080/"
        },
        "id": "H1HITWE0aA54",
        "outputId": "3974693c-4987-4d55-8551-9f7f8ecd5fcf"
      },
      "execution_count": 3,
      "outputs": [
        {
          "output_type": "execute_result",
          "data": {
            "text/plain": [
              "0       female\n",
              "1         male\n",
              "2         male\n",
              "3         male\n",
              "4         male\n",
              "         ...  \n",
              "1333      male\n",
              "1334    female\n",
              "1335    female\n",
              "1336    female\n",
              "1337    female\n",
              "Name: sex, Length: 1338, dtype: object"
            ]
          },
          "metadata": {},
          "execution_count": 3
        }
      ]
    },
    {
      "cell_type": "code",
      "source": [
        "insurance_one_hot = pd.get_dummies(insurance)\n",
        "insurance_one_hot.head()"
      ],
      "metadata": {
        "colab": {
          "base_uri": "https://localhost:8080/",
          "height": 270
        },
        "id": "kbTNzv1cacfo",
        "outputId": "f7bf7320-021f-423b-ed0a-d7b609d78658"
      },
      "execution_count": 4,
      "outputs": [
        {
          "output_type": "execute_result",
          "data": {
            "text/plain": [
              "   age     bmi  children      charges  sex_female  sex_male  smoker_no  \\\n",
              "0   19  27.900         0  16884.92400           1         0          0   \n",
              "1   18  33.770         1   1725.55230           0         1          1   \n",
              "2   28  33.000         3   4449.46200           0         1          1   \n",
              "3   33  22.705         0  21984.47061           0         1          1   \n",
              "4   32  28.880         0   3866.85520           0         1          1   \n",
              "\n",
              "   smoker_yes  region_northeast  region_northwest  region_southeast  \\\n",
              "0           1                 0                 0                 0   \n",
              "1           0                 0                 0                 1   \n",
              "2           0                 0                 0                 1   \n",
              "3           0                 0                 1                 0   \n",
              "4           0                 0                 1                 0   \n",
              "\n",
              "   region_southwest  \n",
              "0                 1  \n",
              "1                 0  \n",
              "2                 0  \n",
              "3                 0  \n",
              "4                 0  "
            ],
            "text/html": [
              "\n",
              "  <div id=\"df-8bb4105d-2c53-4503-9ef2-12a8cacf5db4\">\n",
              "    <div class=\"colab-df-container\">\n",
              "      <div>\n",
              "<style scoped>\n",
              "    .dataframe tbody tr th:only-of-type {\n",
              "        vertical-align: middle;\n",
              "    }\n",
              "\n",
              "    .dataframe tbody tr th {\n",
              "        vertical-align: top;\n",
              "    }\n",
              "\n",
              "    .dataframe thead th {\n",
              "        text-align: right;\n",
              "    }\n",
              "</style>\n",
              "<table border=\"1\" class=\"dataframe\">\n",
              "  <thead>\n",
              "    <tr style=\"text-align: right;\">\n",
              "      <th></th>\n",
              "      <th>age</th>\n",
              "      <th>bmi</th>\n",
              "      <th>children</th>\n",
              "      <th>charges</th>\n",
              "      <th>sex_female</th>\n",
              "      <th>sex_male</th>\n",
              "      <th>smoker_no</th>\n",
              "      <th>smoker_yes</th>\n",
              "      <th>region_northeast</th>\n",
              "      <th>region_northwest</th>\n",
              "      <th>region_southeast</th>\n",
              "      <th>region_southwest</th>\n",
              "    </tr>\n",
              "  </thead>\n",
              "  <tbody>\n",
              "    <tr>\n",
              "      <th>0</th>\n",
              "      <td>19</td>\n",
              "      <td>27.900</td>\n",
              "      <td>0</td>\n",
              "      <td>16884.92400</td>\n",
              "      <td>1</td>\n",
              "      <td>0</td>\n",
              "      <td>0</td>\n",
              "      <td>1</td>\n",
              "      <td>0</td>\n",
              "      <td>0</td>\n",
              "      <td>0</td>\n",
              "      <td>1</td>\n",
              "    </tr>\n",
              "    <tr>\n",
              "      <th>1</th>\n",
              "      <td>18</td>\n",
              "      <td>33.770</td>\n",
              "      <td>1</td>\n",
              "      <td>1725.55230</td>\n",
              "      <td>0</td>\n",
              "      <td>1</td>\n",
              "      <td>1</td>\n",
              "      <td>0</td>\n",
              "      <td>0</td>\n",
              "      <td>0</td>\n",
              "      <td>1</td>\n",
              "      <td>0</td>\n",
              "    </tr>\n",
              "    <tr>\n",
              "      <th>2</th>\n",
              "      <td>28</td>\n",
              "      <td>33.000</td>\n",
              "      <td>3</td>\n",
              "      <td>4449.46200</td>\n",
              "      <td>0</td>\n",
              "      <td>1</td>\n",
              "      <td>1</td>\n",
              "      <td>0</td>\n",
              "      <td>0</td>\n",
              "      <td>0</td>\n",
              "      <td>1</td>\n",
              "      <td>0</td>\n",
              "    </tr>\n",
              "    <tr>\n",
              "      <th>3</th>\n",
              "      <td>33</td>\n",
              "      <td>22.705</td>\n",
              "      <td>0</td>\n",
              "      <td>21984.47061</td>\n",
              "      <td>0</td>\n",
              "      <td>1</td>\n",
              "      <td>1</td>\n",
              "      <td>0</td>\n",
              "      <td>0</td>\n",
              "      <td>1</td>\n",
              "      <td>0</td>\n",
              "      <td>0</td>\n",
              "    </tr>\n",
              "    <tr>\n",
              "      <th>4</th>\n",
              "      <td>32</td>\n",
              "      <td>28.880</td>\n",
              "      <td>0</td>\n",
              "      <td>3866.85520</td>\n",
              "      <td>0</td>\n",
              "      <td>1</td>\n",
              "      <td>1</td>\n",
              "      <td>0</td>\n",
              "      <td>0</td>\n",
              "      <td>1</td>\n",
              "      <td>0</td>\n",
              "      <td>0</td>\n",
              "    </tr>\n",
              "  </tbody>\n",
              "</table>\n",
              "</div>\n",
              "      <button class=\"colab-df-convert\" onclick=\"convertToInteractive('df-8bb4105d-2c53-4503-9ef2-12a8cacf5db4')\"\n",
              "              title=\"Convert this dataframe to an interactive table.\"\n",
              "              style=\"display:none;\">\n",
              "        \n",
              "  <svg xmlns=\"http://www.w3.org/2000/svg\" height=\"24px\"viewBox=\"0 0 24 24\"\n",
              "       width=\"24px\">\n",
              "    <path d=\"M0 0h24v24H0V0z\" fill=\"none\"/>\n",
              "    <path d=\"M18.56 5.44l.94 2.06.94-2.06 2.06-.94-2.06-.94-.94-2.06-.94 2.06-2.06.94zm-11 1L8.5 8.5l.94-2.06 2.06-.94-2.06-.94L8.5 2.5l-.94 2.06-2.06.94zm10 10l.94 2.06.94-2.06 2.06-.94-2.06-.94-.94-2.06-.94 2.06-2.06.94z\"/><path d=\"M17.41 7.96l-1.37-1.37c-.4-.4-.92-.59-1.43-.59-.52 0-1.04.2-1.43.59L10.3 9.45l-7.72 7.72c-.78.78-.78 2.05 0 2.83L4 21.41c.39.39.9.59 1.41.59.51 0 1.02-.2 1.41-.59l7.78-7.78 2.81-2.81c.8-.78.8-2.07 0-2.86zM5.41 20L4 18.59l7.72-7.72 1.47 1.35L5.41 20z\"/>\n",
              "  </svg>\n",
              "      </button>\n",
              "      \n",
              "  <style>\n",
              "    .colab-df-container {\n",
              "      display:flex;\n",
              "      flex-wrap:wrap;\n",
              "      gap: 12px;\n",
              "    }\n",
              "\n",
              "    .colab-df-convert {\n",
              "      background-color: #E8F0FE;\n",
              "      border: none;\n",
              "      border-radius: 50%;\n",
              "      cursor: pointer;\n",
              "      display: none;\n",
              "      fill: #1967D2;\n",
              "      height: 32px;\n",
              "      padding: 0 0 0 0;\n",
              "      width: 32px;\n",
              "    }\n",
              "\n",
              "    .colab-df-convert:hover {\n",
              "      background-color: #E2EBFA;\n",
              "      box-shadow: 0px 1px 2px rgba(60, 64, 67, 0.3), 0px 1px 3px 1px rgba(60, 64, 67, 0.15);\n",
              "      fill: #174EA6;\n",
              "    }\n",
              "\n",
              "    [theme=dark] .colab-df-convert {\n",
              "      background-color: #3B4455;\n",
              "      fill: #D2E3FC;\n",
              "    }\n",
              "\n",
              "    [theme=dark] .colab-df-convert:hover {\n",
              "      background-color: #434B5C;\n",
              "      box-shadow: 0px 1px 3px 1px rgba(0, 0, 0, 0.15);\n",
              "      filter: drop-shadow(0px 1px 2px rgba(0, 0, 0, 0.3));\n",
              "      fill: #FFFFFF;\n",
              "    }\n",
              "  </style>\n",
              "\n",
              "      <script>\n",
              "        const buttonEl =\n",
              "          document.querySelector('#df-8bb4105d-2c53-4503-9ef2-12a8cacf5db4 button.colab-df-convert');\n",
              "        buttonEl.style.display =\n",
              "          google.colab.kernel.accessAllowed ? 'block' : 'none';\n",
              "\n",
              "        async function convertToInteractive(key) {\n",
              "          const element = document.querySelector('#df-8bb4105d-2c53-4503-9ef2-12a8cacf5db4');\n",
              "          const dataTable =\n",
              "            await google.colab.kernel.invokeFunction('convertToInteractive',\n",
              "                                                     [key], {});\n",
              "          if (!dataTable) return;\n",
              "\n",
              "          const docLinkHtml = 'Like what you see? Visit the ' +\n",
              "            '<a target=\"_blank\" href=https://colab.research.google.com/notebooks/data_table.ipynb>data table notebook</a>'\n",
              "            + ' to learn more about interactive tables.';\n",
              "          element.innerHTML = '';\n",
              "          dataTable['output_type'] = 'display_data';\n",
              "          await google.colab.output.renderOutput(dataTable, element);\n",
              "          const docLink = document.createElement('div');\n",
              "          docLink.innerHTML = docLinkHtml;\n",
              "          element.appendChild(docLink);\n",
              "        }\n",
              "      </script>\n",
              "    </div>\n",
              "  </div>\n",
              "  "
            ]
          },
          "metadata": {},
          "execution_count": 4
        }
      ]
    },
    {
      "cell_type": "code",
      "source": [
        " # Create x and y \n",
        " x = insurance_one_hot.drop(\"charges\",axis=1)\n",
        " y = insurance_one_hot[\"charges\"]\n",
        "\n",
        " x.head()"
      ],
      "metadata": {
        "colab": {
          "base_uri": "https://localhost:8080/",
          "height": 250
        },
        "id": "nRISc3lca4Pw",
        "outputId": "4c268b77-12c3-42f1-a33e-9d405135f3ec"
      },
      "execution_count": 5,
      "outputs": [
        {
          "output_type": "execute_result",
          "data": {
            "text/plain": [
              "   age     bmi  children  sex_female  sex_male  smoker_no  smoker_yes  \\\n",
              "0   19  27.900         0           1         0          0           1   \n",
              "1   18  33.770         1           0         1          1           0   \n",
              "2   28  33.000         3           0         1          1           0   \n",
              "3   33  22.705         0           0         1          1           0   \n",
              "4   32  28.880         0           0         1          1           0   \n",
              "\n",
              "   region_northeast  region_northwest  region_southeast  region_southwest  \n",
              "0                 0                 0                 0                 1  \n",
              "1                 0                 0                 1                 0  \n",
              "2                 0                 0                 1                 0  \n",
              "3                 0                 1                 0                 0  \n",
              "4                 0                 1                 0                 0  "
            ],
            "text/html": [
              "\n",
              "  <div id=\"df-ed0e95fd-95d1-40f1-8a02-8310bae83377\">\n",
              "    <div class=\"colab-df-container\">\n",
              "      <div>\n",
              "<style scoped>\n",
              "    .dataframe tbody tr th:only-of-type {\n",
              "        vertical-align: middle;\n",
              "    }\n",
              "\n",
              "    .dataframe tbody tr th {\n",
              "        vertical-align: top;\n",
              "    }\n",
              "\n",
              "    .dataframe thead th {\n",
              "        text-align: right;\n",
              "    }\n",
              "</style>\n",
              "<table border=\"1\" class=\"dataframe\">\n",
              "  <thead>\n",
              "    <tr style=\"text-align: right;\">\n",
              "      <th></th>\n",
              "      <th>age</th>\n",
              "      <th>bmi</th>\n",
              "      <th>children</th>\n",
              "      <th>sex_female</th>\n",
              "      <th>sex_male</th>\n",
              "      <th>smoker_no</th>\n",
              "      <th>smoker_yes</th>\n",
              "      <th>region_northeast</th>\n",
              "      <th>region_northwest</th>\n",
              "      <th>region_southeast</th>\n",
              "      <th>region_southwest</th>\n",
              "    </tr>\n",
              "  </thead>\n",
              "  <tbody>\n",
              "    <tr>\n",
              "      <th>0</th>\n",
              "      <td>19</td>\n",
              "      <td>27.900</td>\n",
              "      <td>0</td>\n",
              "      <td>1</td>\n",
              "      <td>0</td>\n",
              "      <td>0</td>\n",
              "      <td>1</td>\n",
              "      <td>0</td>\n",
              "      <td>0</td>\n",
              "      <td>0</td>\n",
              "      <td>1</td>\n",
              "    </tr>\n",
              "    <tr>\n",
              "      <th>1</th>\n",
              "      <td>18</td>\n",
              "      <td>33.770</td>\n",
              "      <td>1</td>\n",
              "      <td>0</td>\n",
              "      <td>1</td>\n",
              "      <td>1</td>\n",
              "      <td>0</td>\n",
              "      <td>0</td>\n",
              "      <td>0</td>\n",
              "      <td>1</td>\n",
              "      <td>0</td>\n",
              "    </tr>\n",
              "    <tr>\n",
              "      <th>2</th>\n",
              "      <td>28</td>\n",
              "      <td>33.000</td>\n",
              "      <td>3</td>\n",
              "      <td>0</td>\n",
              "      <td>1</td>\n",
              "      <td>1</td>\n",
              "      <td>0</td>\n",
              "      <td>0</td>\n",
              "      <td>0</td>\n",
              "      <td>1</td>\n",
              "      <td>0</td>\n",
              "    </tr>\n",
              "    <tr>\n",
              "      <th>3</th>\n",
              "      <td>33</td>\n",
              "      <td>22.705</td>\n",
              "      <td>0</td>\n",
              "      <td>0</td>\n",
              "      <td>1</td>\n",
              "      <td>1</td>\n",
              "      <td>0</td>\n",
              "      <td>0</td>\n",
              "      <td>1</td>\n",
              "      <td>0</td>\n",
              "      <td>0</td>\n",
              "    </tr>\n",
              "    <tr>\n",
              "      <th>4</th>\n",
              "      <td>32</td>\n",
              "      <td>28.880</td>\n",
              "      <td>0</td>\n",
              "      <td>0</td>\n",
              "      <td>1</td>\n",
              "      <td>1</td>\n",
              "      <td>0</td>\n",
              "      <td>0</td>\n",
              "      <td>1</td>\n",
              "      <td>0</td>\n",
              "      <td>0</td>\n",
              "    </tr>\n",
              "  </tbody>\n",
              "</table>\n",
              "</div>\n",
              "      <button class=\"colab-df-convert\" onclick=\"convertToInteractive('df-ed0e95fd-95d1-40f1-8a02-8310bae83377')\"\n",
              "              title=\"Convert this dataframe to an interactive table.\"\n",
              "              style=\"display:none;\">\n",
              "        \n",
              "  <svg xmlns=\"http://www.w3.org/2000/svg\" height=\"24px\"viewBox=\"0 0 24 24\"\n",
              "       width=\"24px\">\n",
              "    <path d=\"M0 0h24v24H0V0z\" fill=\"none\"/>\n",
              "    <path d=\"M18.56 5.44l.94 2.06.94-2.06 2.06-.94-2.06-.94-.94-2.06-.94 2.06-2.06.94zm-11 1L8.5 8.5l.94-2.06 2.06-.94-2.06-.94L8.5 2.5l-.94 2.06-2.06.94zm10 10l.94 2.06.94-2.06 2.06-.94-2.06-.94-.94-2.06-.94 2.06-2.06.94z\"/><path d=\"M17.41 7.96l-1.37-1.37c-.4-.4-.92-.59-1.43-.59-.52 0-1.04.2-1.43.59L10.3 9.45l-7.72 7.72c-.78.78-.78 2.05 0 2.83L4 21.41c.39.39.9.59 1.41.59.51 0 1.02-.2 1.41-.59l7.78-7.78 2.81-2.81c.8-.78.8-2.07 0-2.86zM5.41 20L4 18.59l7.72-7.72 1.47 1.35L5.41 20z\"/>\n",
              "  </svg>\n",
              "      </button>\n",
              "      \n",
              "  <style>\n",
              "    .colab-df-container {\n",
              "      display:flex;\n",
              "      flex-wrap:wrap;\n",
              "      gap: 12px;\n",
              "    }\n",
              "\n",
              "    .colab-df-convert {\n",
              "      background-color: #E8F0FE;\n",
              "      border: none;\n",
              "      border-radius: 50%;\n",
              "      cursor: pointer;\n",
              "      display: none;\n",
              "      fill: #1967D2;\n",
              "      height: 32px;\n",
              "      padding: 0 0 0 0;\n",
              "      width: 32px;\n",
              "    }\n",
              "\n",
              "    .colab-df-convert:hover {\n",
              "      background-color: #E2EBFA;\n",
              "      box-shadow: 0px 1px 2px rgba(60, 64, 67, 0.3), 0px 1px 3px 1px rgba(60, 64, 67, 0.15);\n",
              "      fill: #174EA6;\n",
              "    }\n",
              "\n",
              "    [theme=dark] .colab-df-convert {\n",
              "      background-color: #3B4455;\n",
              "      fill: #D2E3FC;\n",
              "    }\n",
              "\n",
              "    [theme=dark] .colab-df-convert:hover {\n",
              "      background-color: #434B5C;\n",
              "      box-shadow: 0px 1px 3px 1px rgba(0, 0, 0, 0.15);\n",
              "      filter: drop-shadow(0px 1px 2px rgba(0, 0, 0, 0.3));\n",
              "      fill: #FFFFFF;\n",
              "    }\n",
              "  </style>\n",
              "\n",
              "      <script>\n",
              "        const buttonEl =\n",
              "          document.querySelector('#df-ed0e95fd-95d1-40f1-8a02-8310bae83377 button.colab-df-convert');\n",
              "        buttonEl.style.display =\n",
              "          google.colab.kernel.accessAllowed ? 'block' : 'none';\n",
              "\n",
              "        async function convertToInteractive(key) {\n",
              "          const element = document.querySelector('#df-ed0e95fd-95d1-40f1-8a02-8310bae83377');\n",
              "          const dataTable =\n",
              "            await google.colab.kernel.invokeFunction('convertToInteractive',\n",
              "                                                     [key], {});\n",
              "          if (!dataTable) return;\n",
              "\n",
              "          const docLinkHtml = 'Like what you see? Visit the ' +\n",
              "            '<a target=\"_blank\" href=https://colab.research.google.com/notebooks/data_table.ipynb>data table notebook</a>'\n",
              "            + ' to learn more about interactive tables.';\n",
              "          element.innerHTML = '';\n",
              "          dataTable['output_type'] = 'display_data';\n",
              "          await google.colab.output.renderOutput(dataTable, element);\n",
              "          const docLink = document.createElement('div');\n",
              "          docLink.innerHTML = docLinkHtml;\n",
              "          element.appendChild(docLink);\n",
              "        }\n",
              "      </script>\n",
              "    </div>\n",
              "  </div>\n",
              "  "
            ]
          },
          "metadata": {},
          "execution_count": 5
        }
      ]
    },
    {
      "cell_type": "code",
      "source": [
        "y.head()"
      ],
      "metadata": {
        "colab": {
          "base_uri": "https://localhost:8080/"
        },
        "id": "0G-U2xqCbsGo",
        "outputId": "fba45896-f61f-4fed-edbc-7dfcc98c6bfb"
      },
      "execution_count": 6,
      "outputs": [
        {
          "output_type": "execute_result",
          "data": {
            "text/plain": [
              "0    16884.92400\n",
              "1     1725.55230\n",
              "2     4449.46200\n",
              "3    21984.47061\n",
              "4     3866.85520\n",
              "Name: charges, dtype: float64"
            ]
          },
          "metadata": {},
          "execution_count": 6
        }
      ]
    },
    {
      "cell_type": "code",
      "source": [
        "#Creating the train and test sets\n",
        "from sklearn.model_selection import train_test_split\n",
        "x_train,x_test,y_train,y_test = train_test_split(x,y,test_size=0.2,random_state=42)"
      ],
      "metadata": {
        "id": "k9UBz6JQbs-T"
      },
      "execution_count": 7,
      "outputs": []
    },
    {
      "cell_type": "code",
      "source": [
        "len(x_train)"
      ],
      "metadata": {
        "colab": {
          "base_uri": "https://localhost:8080/"
        },
        "id": "NfcHfKcUcJ42",
        "outputId": "52efc5b0-2f28-4195-cac0-9382570addb0"
      },
      "execution_count": 8,
      "outputs": [
        {
          "output_type": "execute_result",
          "data": {
            "text/plain": [
              "1070"
            ]
          },
          "metadata": {},
          "execution_count": 8
        }
      ]
    },
    {
      "cell_type": "code",
      "source": [
        "tf.random.set_seed(42)\n",
        "\n",
        "model = tf.keras.Sequential([\n",
        "    tf.keras.layers.Dense(100),\n",
        "    tf.keras.layers.Dense(1)\n",
        "])\n",
        "\n",
        "model.compile(loss=tf.keras.losses.mae,\n",
        "              optimizer = tf.keras.optimizers.SGD(),\n",
        "              metrics=[\"mae\"])\n",
        "\n",
        "model.fit(x_train,y_train,epochs=100)"
      ],
      "metadata": {
        "colab": {
          "base_uri": "https://localhost:8080/"
        },
        "id": "UUTJqRyCcXTw",
        "outputId": "5b44ed7d-4e60-42b9-d224-2d1e4a26b2fa"
      },
      "execution_count": 9,
      "outputs": [
        {
          "output_type": "stream",
          "name": "stdout",
          "text": [
            "Epoch 1/100\n",
            "34/34 [==============================] - 1s 3ms/step - loss: 8594.1299 - mae: 8594.1299\n",
            "Epoch 2/100\n",
            "34/34 [==============================] - 0s 3ms/step - loss: 7883.4194 - mae: 7883.4194\n",
            "Epoch 3/100\n",
            "34/34 [==============================] - 0s 3ms/step - loss: 7588.1934 - mae: 7588.1934\n",
            "Epoch 4/100\n",
            "34/34 [==============================] - 0s 7ms/step - loss: 7785.4263 - mae: 7785.4263\n",
            "Epoch 5/100\n",
            "34/34 [==============================] - 0s 5ms/step - loss: 7671.1475 - mae: 7671.1475\n",
            "Epoch 6/100\n",
            "34/34 [==============================] - 0s 5ms/step - loss: 7609.9766 - mae: 7609.9766\n",
            "Epoch 7/100\n",
            "34/34 [==============================] - 0s 12ms/step - loss: 7593.9961 - mae: 7593.9961\n",
            "Epoch 8/100\n",
            "34/34 [==============================] - 0s 5ms/step - loss: 7789.5693 - mae: 7789.5693\n",
            "Epoch 9/100\n",
            "34/34 [==============================] - 0s 9ms/step - loss: 7620.3613 - mae: 7620.3613\n",
            "Epoch 10/100\n",
            "34/34 [==============================] - 0s 4ms/step - loss: 7759.2896 - mae: 7759.2896\n",
            "Epoch 11/100\n",
            "34/34 [==============================] - 0s 15ms/step - loss: 7509.2012 - mae: 7509.2012\n",
            "Epoch 12/100\n",
            "34/34 [==============================] - 0s 7ms/step - loss: 7579.9390 - mae: 7579.9390\n",
            "Epoch 13/100\n",
            "34/34 [==============================] - 0s 4ms/step - loss: 7721.5601 - mae: 7721.5601\n",
            "Epoch 14/100\n",
            "34/34 [==============================] - 0s 7ms/step - loss: 7759.9834 - mae: 7759.9834\n",
            "Epoch 15/100\n",
            "34/34 [==============================] - 0s 7ms/step - loss: 7439.2056 - mae: 7439.2056\n",
            "Epoch 16/100\n",
            "34/34 [==============================] - 0s 8ms/step - loss: 7760.0815 - mae: 7760.0815\n",
            "Epoch 17/100\n",
            "34/34 [==============================] - 0s 6ms/step - loss: 7661.9492 - mae: 7661.9492\n",
            "Epoch 18/100\n",
            "34/34 [==============================] - 0s 5ms/step - loss: 7819.3906 - mae: 7819.3906\n",
            "Epoch 19/100\n",
            "34/34 [==============================] - 0s 5ms/step - loss: 7505.3452 - mae: 7505.3452\n",
            "Epoch 20/100\n",
            "34/34 [==============================] - 0s 7ms/step - loss: 7905.5581 - mae: 7905.5581\n",
            "Epoch 21/100\n",
            "34/34 [==============================] - 0s 7ms/step - loss: 7556.5645 - mae: 7556.5645\n",
            "Epoch 22/100\n",
            "34/34 [==============================] - 0s 8ms/step - loss: 7772.4116 - mae: 7772.4116\n",
            "Epoch 23/100\n",
            "34/34 [==============================] - 0s 14ms/step - loss: 7560.6641 - mae: 7560.6641\n",
            "Epoch 24/100\n",
            "34/34 [==============================] - 0s 6ms/step - loss: 7608.4507 - mae: 7608.4507\n",
            "Epoch 25/100\n",
            "34/34 [==============================] - 0s 7ms/step - loss: 7544.7280 - mae: 7544.7280\n",
            "Epoch 26/100\n",
            "34/34 [==============================] - 0s 12ms/step - loss: 7689.5410 - mae: 7689.5410\n",
            "Epoch 27/100\n",
            "34/34 [==============================] - 0s 9ms/step - loss: 7365.6509 - mae: 7365.6509\n",
            "Epoch 28/100\n",
            "34/34 [==============================] - 0s 13ms/step - loss: 7518.8374 - mae: 7518.8374\n",
            "Epoch 29/100\n",
            "34/34 [==============================] - 0s 10ms/step - loss: 7663.3867 - mae: 7663.3867\n",
            "Epoch 30/100\n",
            "34/34 [==============================] - 0s 4ms/step - loss: 7516.5249 - mae: 7516.5249\n",
            "Epoch 31/100\n",
            "34/34 [==============================] - 0s 10ms/step - loss: 7611.8867 - mae: 7611.8867\n",
            "Epoch 32/100\n",
            "34/34 [==============================] - 0s 5ms/step - loss: 7528.3159 - mae: 7528.3159\n",
            "Epoch 33/100\n",
            "34/34 [==============================] - 0s 14ms/step - loss: 7435.6211 - mae: 7435.6211\n",
            "Epoch 34/100\n",
            "34/34 [==============================] - 0s 7ms/step - loss: 7469.8589 - mae: 7469.8589\n",
            "Epoch 35/100\n",
            "34/34 [==============================] - 0s 4ms/step - loss: 7536.3613 - mae: 7536.3613\n",
            "Epoch 36/100\n",
            "34/34 [==============================] - 0s 6ms/step - loss: 7498.8130 - mae: 7498.8130\n",
            "Epoch 37/100\n",
            "34/34 [==============================] - 0s 10ms/step - loss: 7662.5391 - mae: 7662.5391\n",
            "Epoch 38/100\n",
            "34/34 [==============================] - 1s 19ms/step - loss: 7556.0796 - mae: 7556.0796\n",
            "Epoch 39/100\n",
            "34/34 [==============================] - 0s 10ms/step - loss: 7500.7900 - mae: 7500.7900\n",
            "Epoch 40/100\n",
            "34/34 [==============================] - 0s 3ms/step - loss: 7370.9023 - mae: 7370.9023\n",
            "Epoch 41/100\n",
            "34/34 [==============================] - 0s 8ms/step - loss: 7597.1831 - mae: 7597.1831\n",
            "Epoch 42/100\n",
            "34/34 [==============================] - 0s 6ms/step - loss: 7562.1001 - mae: 7562.1001\n",
            "Epoch 43/100\n",
            "34/34 [==============================] - 0s 6ms/step - loss: 7656.2954 - mae: 7656.2954\n",
            "Epoch 44/100\n",
            "34/34 [==============================] - 0s 4ms/step - loss: 7474.5645 - mae: 7474.5645\n",
            "Epoch 45/100\n",
            "34/34 [==============================] - 0s 4ms/step - loss: 7452.5571 - mae: 7452.5571\n",
            "Epoch 46/100\n",
            "34/34 [==============================] - 0s 4ms/step - loss: 7537.1250 - mae: 7537.1250\n",
            "Epoch 47/100\n",
            "34/34 [==============================] - 0s 8ms/step - loss: 7502.2720 - mae: 7502.2720\n",
            "Epoch 48/100\n",
            "34/34 [==============================] - 1s 15ms/step - loss: 7166.8232 - mae: 7166.8232\n",
            "Epoch 49/100\n",
            "34/34 [==============================] - 0s 12ms/step - loss: 7494.3320 - mae: 7494.3320\n",
            "Epoch 50/100\n",
            "34/34 [==============================] - 0s 11ms/step - loss: 7430.4136 - mae: 7430.4136\n",
            "Epoch 51/100\n",
            "34/34 [==============================] - 0s 11ms/step - loss: 7399.5171 - mae: 7399.5171\n",
            "Epoch 52/100\n",
            "34/34 [==============================] - 1s 19ms/step - loss: 7366.6064 - mae: 7366.6064\n",
            "Epoch 53/100\n",
            "34/34 [==============================] - 1s 19ms/step - loss: 7547.5532 - mae: 7547.5532\n",
            "Epoch 54/100\n",
            "34/34 [==============================] - 1s 15ms/step - loss: 7285.8716 - mae: 7285.8716\n",
            "Epoch 55/100\n",
            "34/34 [==============================] - 0s 11ms/step - loss: 7261.7554 - mae: 7261.7554\n",
            "Epoch 56/100\n",
            "34/34 [==============================] - 0s 10ms/step - loss: 7377.1499 - mae: 7377.1499\n",
            "Epoch 57/100\n",
            "34/34 [==============================] - 0s 8ms/step - loss: 7220.4331 - mae: 7220.4331\n",
            "Epoch 58/100\n",
            "34/34 [==============================] - 0s 13ms/step - loss: 7395.5718 - mae: 7395.5718\n",
            "Epoch 59/100\n",
            "34/34 [==============================] - 0s 7ms/step - loss: 7682.6650 - mae: 7682.6650\n",
            "Epoch 60/100\n",
            "34/34 [==============================] - 0s 6ms/step - loss: 7411.3081 - mae: 7411.3081\n",
            "Epoch 61/100\n",
            "34/34 [==============================] - 0s 5ms/step - loss: 7457.1719 - mae: 7457.1719\n",
            "Epoch 62/100\n",
            "34/34 [==============================] - 0s 5ms/step - loss: 7414.6655 - mae: 7414.6655\n",
            "Epoch 63/100\n",
            "34/34 [==============================] - 0s 8ms/step - loss: 7370.3042 - mae: 7370.3042\n",
            "Epoch 64/100\n",
            "34/34 [==============================] - 0s 7ms/step - loss: 7546.8691 - mae: 7546.8691\n",
            "Epoch 65/100\n",
            "34/34 [==============================] - 0s 7ms/step - loss: 7514.7676 - mae: 7514.7676\n",
            "Epoch 66/100\n",
            "34/34 [==============================] - 1s 20ms/step - loss: 7357.2734 - mae: 7357.2734\n",
            "Epoch 67/100\n",
            "34/34 [==============================] - 0s 14ms/step - loss: 7317.2920 - mae: 7317.2920\n",
            "Epoch 68/100\n",
            "34/34 [==============================] - 0s 8ms/step - loss: 7546.0127 - mae: 7546.0127\n",
            "Epoch 69/100\n",
            "34/34 [==============================] - 0s 11ms/step - loss: 7578.5298 - mae: 7578.5298\n",
            "Epoch 70/100\n",
            "34/34 [==============================] - 0s 8ms/step - loss: 7616.6826 - mae: 7616.6826\n",
            "Epoch 71/100\n",
            "34/34 [==============================] - 0s 9ms/step - loss: 7262.3862 - mae: 7262.3862\n",
            "Epoch 72/100\n",
            "34/34 [==============================] - 0s 5ms/step - loss: 7170.1802 - mae: 7170.1802\n",
            "Epoch 73/100\n",
            "34/34 [==============================] - 0s 10ms/step - loss: 7480.8843 - mae: 7480.8843\n",
            "Epoch 74/100\n",
            "34/34 [==============================] - 0s 5ms/step - loss: 7334.6904 - mae: 7334.6904\n",
            "Epoch 75/100\n",
            "34/34 [==============================] - 0s 9ms/step - loss: 7312.1191 - mae: 7312.1191\n",
            "Epoch 76/100\n",
            "34/34 [==============================] - 0s 4ms/step - loss: 7067.5713 - mae: 7067.5713\n",
            "Epoch 77/100\n",
            "34/34 [==============================] - 1s 17ms/step - loss: 7371.8325 - mae: 7371.8325\n",
            "Epoch 78/100\n",
            "34/34 [==============================] - 0s 14ms/step - loss: 7244.4077 - mae: 7244.4077\n",
            "Epoch 79/100\n",
            "34/34 [==============================] - 0s 6ms/step - loss: 7080.0693 - mae: 7080.0693\n",
            "Epoch 80/100\n",
            "34/34 [==============================] - 0s 5ms/step - loss: 7271.9473 - mae: 7271.9473\n",
            "Epoch 81/100\n",
            "34/34 [==============================] - 0s 4ms/step - loss: 7226.5947 - mae: 7226.5947\n",
            "Epoch 82/100\n",
            "34/34 [==============================] - 0s 5ms/step - loss: 7299.1187 - mae: 7299.1187\n",
            "Epoch 83/100\n",
            "34/34 [==============================] - 0s 3ms/step - loss: 7366.9731 - mae: 7366.9731\n",
            "Epoch 84/100\n",
            "34/34 [==============================] - 0s 3ms/step - loss: 7193.2471 - mae: 7193.2471\n",
            "Epoch 85/100\n",
            "34/34 [==============================] - 0s 3ms/step - loss: 7557.8306 - mae: 7557.8306\n",
            "Epoch 86/100\n",
            "34/34 [==============================] - 0s 3ms/step - loss: 7580.1143 - mae: 7580.1143\n",
            "Epoch 87/100\n",
            "34/34 [==============================] - 0s 2ms/step - loss: 7328.5278 - mae: 7328.5278\n",
            "Epoch 88/100\n",
            "34/34 [==============================] - 0s 3ms/step - loss: 7409.3628 - mae: 7409.3628\n",
            "Epoch 89/100\n",
            "34/34 [==============================] - 0s 4ms/step - loss: 7421.7227 - mae: 7421.7227\n",
            "Epoch 90/100\n",
            "34/34 [==============================] - 0s 2ms/step - loss: 7143.0273 - mae: 7143.0273\n",
            "Epoch 91/100\n",
            "34/34 [==============================] - 0s 4ms/step - loss: 6959.8491 - mae: 6959.8491\n",
            "Epoch 92/100\n",
            "34/34 [==============================] - 0s 3ms/step - loss: 7329.9390 - mae: 7329.9390\n",
            "Epoch 93/100\n",
            "34/34 [==============================] - 0s 4ms/step - loss: 7426.3916 - mae: 7426.3916\n",
            "Epoch 94/100\n",
            "34/34 [==============================] - 0s 3ms/step - loss: 7284.2178 - mae: 7284.2178\n",
            "Epoch 95/100\n",
            "34/34 [==============================] - 0s 3ms/step - loss: 7358.1455 - mae: 7358.1455\n",
            "Epoch 96/100\n",
            "34/34 [==============================] - 0s 3ms/step - loss: 7234.9805 - mae: 7234.9805\n",
            "Epoch 97/100\n",
            "34/34 [==============================] - 0s 4ms/step - loss: 7187.3623 - mae: 7187.3623\n",
            "Epoch 98/100\n",
            "34/34 [==============================] - 0s 4ms/step - loss: 7402.8271 - mae: 7402.8271\n",
            "Epoch 99/100\n",
            "34/34 [==============================] - 0s 4ms/step - loss: 7403.0962 - mae: 7403.0962\n",
            "Epoch 100/100\n",
            "34/34 [==============================] - 0s 4ms/step - loss: 7281.3042 - mae: 7281.3042\n"
          ]
        },
        {
          "output_type": "execute_result",
          "data": {
            "text/plain": [
              "<keras.callbacks.History at 0x7f381833e250>"
            ]
          },
          "metadata": {},
          "execution_count": 9
        }
      ]
    },
    {
      "cell_type": "code",
      "source": [
        "model.summary()"
      ],
      "metadata": {
        "colab": {
          "base_uri": "https://localhost:8080/"
        },
        "id": "iKha_vX8dI8E",
        "outputId": "a15db3b8-0168-467c-d84e-8cfb284dcff8"
      },
      "execution_count": 10,
      "outputs": [
        {
          "output_type": "stream",
          "name": "stdout",
          "text": [
            "Model: \"sequential\"\n",
            "_________________________________________________________________\n",
            " Layer (type)                Output Shape              Param #   \n",
            "=================================================================\n",
            " dense (Dense)               (None, 100)               1200      \n",
            "                                                                 \n",
            " dense_1 (Dense)             (None, 1)                 101       \n",
            "                                                                 \n",
            "=================================================================\n",
            "Total params: 1,301\n",
            "Trainable params: 1,301\n",
            "Non-trainable params: 0\n",
            "_________________________________________________________________\n"
          ]
        }
      ]
    },
    {
      "cell_type": "code",
      "source": [
        "model.evaluate(x_test,y_test)"
      ],
      "metadata": {
        "colab": {
          "base_uri": "https://localhost:8080/"
        },
        "id": "HUz6T-gFdQi3",
        "outputId": "35006e2c-a0f2-41d7-f78a-566cf7e7cd98"
      },
      "execution_count": 11,
      "outputs": [
        {
          "output_type": "stream",
          "name": "stdout",
          "text": [
            "9/9 [==============================] - 0s 3ms/step - loss: 8736.1621 - mae: 8736.1621\n"
          ]
        },
        {
          "output_type": "execute_result",
          "data": {
            "text/plain": [
              "[8736.162109375, 8736.162109375]"
            ]
          },
          "metadata": {},
          "execution_count": 11
        }
      ]
    },
    {
      "cell_type": "code",
      "source": [
        "tf.random.set_seed(42)\n",
        "\n",
        "model = tf.keras.Sequential([\n",
        "    tf.keras.layers.Dense(100),\n",
        "    tf.keras.layers.Dense(50),\n",
        "    tf.keras.layers.Dense(10),\n",
        "    tf.keras.layers.Dense(1)\n",
        "])\n",
        "\n",
        "model.compile(loss=tf.keras.losses.mae,\n",
        "              optimizer = tf.keras.optimizers.Adam(),\n",
        "              metrics=[\"mae\"])\n",
        "\n",
        "model.fit(x_train,y_train,epochs=100)"
      ],
      "metadata": {
        "colab": {
          "base_uri": "https://localhost:8080/"
        },
        "id": "OrrxRci4dlCF",
        "outputId": "602176bd-f832-44c0-91ae-2936d3419ef6"
      },
      "execution_count": 12,
      "outputs": [
        {
          "output_type": "stream",
          "name": "stdout",
          "text": [
            "Epoch 1/100\n",
            "34/34 [==============================] - 3s 6ms/step - loss: 13199.0508 - mae: 13199.0508\n",
            "Epoch 2/100\n",
            "34/34 [==============================] - 0s 6ms/step - loss: 12230.3906 - mae: 12230.3906\n",
            "Epoch 3/100\n",
            "34/34 [==============================] - 0s 6ms/step - loss: 9064.7881 - mae: 9064.7881\n",
            "Epoch 4/100\n",
            "34/34 [==============================] - 0s 8ms/step - loss: 7444.9185 - mae: 7444.9185\n",
            "Epoch 5/100\n",
            "34/34 [==============================] - 0s 7ms/step - loss: 7380.6860 - mae: 7380.6860\n",
            "Epoch 6/100\n",
            "34/34 [==============================] - 0s 7ms/step - loss: 7338.4448 - mae: 7338.4448\n",
            "Epoch 7/100\n",
            "34/34 [==============================] - 0s 6ms/step - loss: 7273.6909 - mae: 7273.6909\n",
            "Epoch 8/100\n",
            "34/34 [==============================] - 0s 4ms/step - loss: 7217.9502 - mae: 7217.9502\n",
            "Epoch 9/100\n",
            "34/34 [==============================] - 0s 4ms/step - loss: 7160.6880 - mae: 7160.6880\n",
            "Epoch 10/100\n",
            "34/34 [==============================] - 0s 4ms/step - loss: 7103.3433 - mae: 7103.3433\n",
            "Epoch 11/100\n",
            "34/34 [==============================] - 0s 4ms/step - loss: 7044.2759 - mae: 7044.2759\n",
            "Epoch 12/100\n",
            "34/34 [==============================] - 0s 4ms/step - loss: 6972.4922 - mae: 6972.4922\n",
            "Epoch 13/100\n",
            "34/34 [==============================] - 0s 4ms/step - loss: 6898.7056 - mae: 6898.7056\n",
            "Epoch 14/100\n",
            "34/34 [==============================] - 0s 3ms/step - loss: 6823.1909 - mae: 6823.1909\n",
            "Epoch 15/100\n",
            "34/34 [==============================] - 0s 3ms/step - loss: 6748.5454 - mae: 6748.5454\n",
            "Epoch 16/100\n",
            "34/34 [==============================] - 0s 3ms/step - loss: 6664.1895 - mae: 6664.1895\n",
            "Epoch 17/100\n",
            "34/34 [==============================] - 0s 4ms/step - loss: 6596.6562 - mae: 6596.6562\n",
            "Epoch 18/100\n",
            "34/34 [==============================] - 0s 4ms/step - loss: 6546.3872 - mae: 6546.3872\n",
            "Epoch 19/100\n",
            "34/34 [==============================] - 0s 4ms/step - loss: 6516.2310 - mae: 6516.2310\n",
            "Epoch 20/100\n",
            "34/34 [==============================] - 0s 4ms/step - loss: 6482.4150 - mae: 6482.4150\n",
            "Epoch 21/100\n",
            "34/34 [==============================] - 0s 3ms/step - loss: 6452.6240 - mae: 6452.6240\n",
            "Epoch 22/100\n",
            "34/34 [==============================] - 0s 3ms/step - loss: 6430.1558 - mae: 6430.1558\n",
            "Epoch 23/100\n",
            "34/34 [==============================] - 0s 3ms/step - loss: 6399.5117 - mae: 6399.5117\n",
            "Epoch 24/100\n",
            "34/34 [==============================] - 0s 3ms/step - loss: 6369.8394 - mae: 6369.8394\n",
            "Epoch 25/100\n",
            "34/34 [==============================] - 0s 4ms/step - loss: 6335.5674 - mae: 6335.5674\n",
            "Epoch 26/100\n",
            "34/34 [==============================] - 0s 3ms/step - loss: 6306.4424 - mae: 6306.4424\n",
            "Epoch 27/100\n",
            "34/34 [==============================] - 0s 5ms/step - loss: 6268.1831 - mae: 6268.1831\n",
            "Epoch 28/100\n",
            "34/34 [==============================] - 0s 4ms/step - loss: 6229.6719 - mae: 6229.6719\n",
            "Epoch 29/100\n",
            "34/34 [==============================] - 0s 5ms/step - loss: 6190.7729 - mae: 6190.7729\n",
            "Epoch 30/100\n",
            "34/34 [==============================] - 0s 3ms/step - loss: 6163.8838 - mae: 6163.8838\n",
            "Epoch 31/100\n",
            "34/34 [==============================] - 0s 4ms/step - loss: 6102.1089 - mae: 6102.1089\n",
            "Epoch 32/100\n",
            "34/34 [==============================] - 0s 4ms/step - loss: 6048.2007 - mae: 6048.2007\n",
            "Epoch 33/100\n",
            "34/34 [==============================] - 0s 3ms/step - loss: 5983.2139 - mae: 5983.2139\n",
            "Epoch 34/100\n",
            "34/34 [==============================] - 0s 3ms/step - loss: 5919.4268 - mae: 5919.4268\n",
            "Epoch 35/100\n",
            "34/34 [==============================] - 0s 3ms/step - loss: 5839.3472 - mae: 5839.3472\n",
            "Epoch 36/100\n",
            "34/34 [==============================] - 0s 3ms/step - loss: 5750.9443 - mae: 5750.9443\n",
            "Epoch 37/100\n",
            "34/34 [==============================] - 0s 4ms/step - loss: 5646.8267 - mae: 5646.8267\n",
            "Epoch 38/100\n",
            "34/34 [==============================] - 0s 4ms/step - loss: 5535.1904 - mae: 5535.1904\n",
            "Epoch 39/100\n",
            "34/34 [==============================] - 0s 3ms/step - loss: 5382.3989 - mae: 5382.3989\n",
            "Epoch 40/100\n",
            "34/34 [==============================] - 0s 3ms/step - loss: 5207.4761 - mae: 5207.4761\n",
            "Epoch 41/100\n",
            "34/34 [==============================] - 0s 4ms/step - loss: 5002.9404 - mae: 5002.9404\n",
            "Epoch 42/100\n",
            "34/34 [==============================] - 0s 3ms/step - loss: 4742.5718 - mae: 4742.5718\n",
            "Epoch 43/100\n",
            "34/34 [==============================] - 0s 4ms/step - loss: 4457.9771 - mae: 4457.9771\n",
            "Epoch 44/100\n",
            "34/34 [==============================] - 0s 4ms/step - loss: 4136.3359 - mae: 4136.3359\n",
            "Epoch 45/100\n",
            "34/34 [==============================] - 0s 3ms/step - loss: 3941.8430 - mae: 3941.8430\n",
            "Epoch 46/100\n",
            "34/34 [==============================] - 0s 5ms/step - loss: 3863.0891 - mae: 3863.0891\n",
            "Epoch 47/100\n",
            "34/34 [==============================] - 0s 3ms/step - loss: 3876.4631 - mae: 3876.4631\n",
            "Epoch 48/100\n",
            "34/34 [==============================] - 0s 4ms/step - loss: 3823.0415 - mae: 3823.0415\n",
            "Epoch 49/100\n",
            "34/34 [==============================] - 0s 4ms/step - loss: 3814.7332 - mae: 3814.7332\n",
            "Epoch 50/100\n",
            "34/34 [==============================] - 0s 4ms/step - loss: 3803.6116 - mae: 3803.6116\n",
            "Epoch 51/100\n",
            "34/34 [==============================] - 0s 2ms/step - loss: 3790.5186 - mae: 3790.5186\n",
            "Epoch 52/100\n",
            "34/34 [==============================] - 0s 2ms/step - loss: 3781.2556 - mae: 3781.2556\n",
            "Epoch 53/100\n",
            "34/34 [==============================] - 0s 2ms/step - loss: 3794.3147 - mae: 3794.3147\n",
            "Epoch 54/100\n",
            "34/34 [==============================] - 0s 2ms/step - loss: 3796.0435 - mae: 3796.0435\n",
            "Epoch 55/100\n",
            "34/34 [==============================] - 0s 2ms/step - loss: 3764.7654 - mae: 3764.7654\n",
            "Epoch 56/100\n",
            "34/34 [==============================] - 0s 2ms/step - loss: 3755.7964 - mae: 3755.7964\n",
            "Epoch 57/100\n",
            "34/34 [==============================] - 0s 2ms/step - loss: 3750.7292 - mae: 3750.7292\n",
            "Epoch 58/100\n",
            "34/34 [==============================] - 0s 2ms/step - loss: 3769.0151 - mae: 3769.0151\n",
            "Epoch 59/100\n",
            "34/34 [==============================] - 0s 2ms/step - loss: 3755.3328 - mae: 3755.3328\n",
            "Epoch 60/100\n",
            "34/34 [==============================] - 0s 2ms/step - loss: 3742.3123 - mae: 3742.3123\n",
            "Epoch 61/100\n",
            "34/34 [==============================] - 0s 2ms/step - loss: 3739.2056 - mae: 3739.2056\n",
            "Epoch 62/100\n",
            "34/34 [==============================] - 0s 2ms/step - loss: 3750.3665 - mae: 3750.3665\n",
            "Epoch 63/100\n",
            "34/34 [==============================] - 0s 2ms/step - loss: 3753.6360 - mae: 3753.6360\n",
            "Epoch 64/100\n",
            "34/34 [==============================] - 0s 2ms/step - loss: 3728.5791 - mae: 3728.5791\n",
            "Epoch 65/100\n",
            "34/34 [==============================] - 0s 2ms/step - loss: 3729.7537 - mae: 3729.7537\n",
            "Epoch 66/100\n",
            "34/34 [==============================] - 0s 2ms/step - loss: 3717.6985 - mae: 3717.6985\n",
            "Epoch 67/100\n",
            "34/34 [==============================] - 0s 2ms/step - loss: 3712.1953 - mae: 3712.1953\n",
            "Epoch 68/100\n",
            "34/34 [==============================] - 0s 2ms/step - loss: 3721.7500 - mae: 3721.7500\n",
            "Epoch 69/100\n",
            "34/34 [==============================] - 0s 2ms/step - loss: 3726.2385 - mae: 3726.2385\n",
            "Epoch 70/100\n",
            "34/34 [==============================] - 0s 2ms/step - loss: 3692.5176 - mae: 3692.5176\n",
            "Epoch 71/100\n",
            "34/34 [==============================] - 0s 2ms/step - loss: 3688.9822 - mae: 3688.9822\n",
            "Epoch 72/100\n",
            "34/34 [==============================] - 0s 2ms/step - loss: 3688.9912 - mae: 3688.9912\n",
            "Epoch 73/100\n",
            "34/34 [==============================] - 0s 2ms/step - loss: 3685.0483 - mae: 3685.0483\n",
            "Epoch 74/100\n",
            "34/34 [==============================] - 0s 2ms/step - loss: 3701.4102 - mae: 3701.4102\n",
            "Epoch 75/100\n",
            "34/34 [==============================] - 0s 2ms/step - loss: 3681.2578 - mae: 3681.2578\n",
            "Epoch 76/100\n",
            "34/34 [==============================] - 0s 2ms/step - loss: 3688.2209 - mae: 3688.2209\n",
            "Epoch 77/100\n",
            "34/34 [==============================] - 0s 2ms/step - loss: 3658.4326 - mae: 3658.4326\n",
            "Epoch 78/100\n",
            "34/34 [==============================] - 0s 2ms/step - loss: 3670.9211 - mae: 3670.9211\n",
            "Epoch 79/100\n",
            "34/34 [==============================] - 0s 2ms/step - loss: 3687.0496 - mae: 3687.0496\n",
            "Epoch 80/100\n",
            "34/34 [==============================] - 0s 2ms/step - loss: 3658.5830 - mae: 3658.5830\n",
            "Epoch 81/100\n",
            "34/34 [==============================] - 0s 2ms/step - loss: 3654.6252 - mae: 3654.6252\n",
            "Epoch 82/100\n",
            "34/34 [==============================] - 0s 2ms/step - loss: 3678.9343 - mae: 3678.9343\n",
            "Epoch 83/100\n",
            "34/34 [==============================] - 0s 2ms/step - loss: 3643.7886 - mae: 3643.7886\n",
            "Epoch 84/100\n",
            "34/34 [==============================] - 0s 2ms/step - loss: 3668.8110 - mae: 3668.8110\n",
            "Epoch 85/100\n",
            "34/34 [==============================] - 0s 3ms/step - loss: 3617.9026 - mae: 3617.9026\n",
            "Epoch 86/100\n",
            "34/34 [==============================] - 0s 3ms/step - loss: 3635.2537 - mae: 3635.2537\n",
            "Epoch 87/100\n",
            "34/34 [==============================] - 0s 3ms/step - loss: 3608.5222 - mae: 3608.5222\n",
            "Epoch 88/100\n",
            "34/34 [==============================] - 0s 3ms/step - loss: 3614.1899 - mae: 3614.1899\n",
            "Epoch 89/100\n",
            "34/34 [==============================] - 0s 3ms/step - loss: 3612.4341 - mae: 3612.4341\n",
            "Epoch 90/100\n",
            "34/34 [==============================] - 0s 3ms/step - loss: 3614.3840 - mae: 3614.3840\n",
            "Epoch 91/100\n",
            "34/34 [==============================] - 0s 3ms/step - loss: 3611.4336 - mae: 3611.4336\n",
            "Epoch 92/100\n",
            "34/34 [==============================] - 0s 3ms/step - loss: 3607.7317 - mae: 3607.7317\n",
            "Epoch 93/100\n",
            "34/34 [==============================] - 0s 3ms/step - loss: 3607.2629 - mae: 3607.2629\n",
            "Epoch 94/100\n",
            "34/34 [==============================] - 0s 3ms/step - loss: 3573.0327 - mae: 3573.0327\n",
            "Epoch 95/100\n",
            "34/34 [==============================] - 0s 3ms/step - loss: 3570.7593 - mae: 3570.7593\n",
            "Epoch 96/100\n",
            "34/34 [==============================] - 0s 3ms/step - loss: 3587.8184 - mae: 3587.8184\n",
            "Epoch 97/100\n",
            "34/34 [==============================] - 0s 3ms/step - loss: 3584.4409 - mae: 3584.4409\n",
            "Epoch 98/100\n",
            "34/34 [==============================] - 0s 3ms/step - loss: 3606.2551 - mae: 3606.2551\n",
            "Epoch 99/100\n",
            "34/34 [==============================] - 0s 3ms/step - loss: 3570.7578 - mae: 3570.7578\n",
            "Epoch 100/100\n",
            "34/34 [==============================] - 0s 3ms/step - loss: 3551.5364 - mae: 3551.5364\n"
          ]
        },
        {
          "output_type": "execute_result",
          "data": {
            "text/plain": [
              "<keras.callbacks.History at 0x7f380aff06d0>"
            ]
          },
          "metadata": {},
          "execution_count": 12
        }
      ]
    },
    {
      "cell_type": "code",
      "source": [
        "#Preprocessing the data\n",
        "import tensorflow as tf\n",
        "import numpy as np\n",
        "import pandas as pd\n",
        "import matplotlib.pyplot as plt\n",
        "insurance = pd.read_csv(\"https://raw.githubusercontent.com/stedy/Machine-Learning-with-R-datasets/master/insurance.csv\")\n",
        "insurance"
      ],
      "metadata": {
        "id": "pAge1qPdetfg",
        "colab": {
          "base_uri": "https://localhost:8080/",
          "height": 423
        },
        "outputId": "fdcd8f8f-f223-429e-d8d6-89f6a34f0a6f"
      },
      "execution_count": 14,
      "outputs": [
        {
          "output_type": "execute_result",
          "data": {
            "text/plain": [
              "      age     sex     bmi  children smoker     region      charges\n",
              "0      19  female  27.900         0    yes  southwest  16884.92400\n",
              "1      18    male  33.770         1     no  southeast   1725.55230\n",
              "2      28    male  33.000         3     no  southeast   4449.46200\n",
              "3      33    male  22.705         0     no  northwest  21984.47061\n",
              "4      32    male  28.880         0     no  northwest   3866.85520\n",
              "...   ...     ...     ...       ...    ...        ...          ...\n",
              "1333   50    male  30.970         3     no  northwest  10600.54830\n",
              "1334   18  female  31.920         0     no  northeast   2205.98080\n",
              "1335   18  female  36.850         0     no  southeast   1629.83350\n",
              "1336   21  female  25.800         0     no  southwest   2007.94500\n",
              "1337   61  female  29.070         0    yes  northwest  29141.36030\n",
              "\n",
              "[1338 rows x 7 columns]"
            ],
            "text/html": [
              "\n",
              "  <div id=\"df-d02481c9-7691-480d-acad-0af01a040da1\">\n",
              "    <div class=\"colab-df-container\">\n",
              "      <div>\n",
              "<style scoped>\n",
              "    .dataframe tbody tr th:only-of-type {\n",
              "        vertical-align: middle;\n",
              "    }\n",
              "\n",
              "    .dataframe tbody tr th {\n",
              "        vertical-align: top;\n",
              "    }\n",
              "\n",
              "    .dataframe thead th {\n",
              "        text-align: right;\n",
              "    }\n",
              "</style>\n",
              "<table border=\"1\" class=\"dataframe\">\n",
              "  <thead>\n",
              "    <tr style=\"text-align: right;\">\n",
              "      <th></th>\n",
              "      <th>age</th>\n",
              "      <th>sex</th>\n",
              "      <th>bmi</th>\n",
              "      <th>children</th>\n",
              "      <th>smoker</th>\n",
              "      <th>region</th>\n",
              "      <th>charges</th>\n",
              "    </tr>\n",
              "  </thead>\n",
              "  <tbody>\n",
              "    <tr>\n",
              "      <th>0</th>\n",
              "      <td>19</td>\n",
              "      <td>female</td>\n",
              "      <td>27.900</td>\n",
              "      <td>0</td>\n",
              "      <td>yes</td>\n",
              "      <td>southwest</td>\n",
              "      <td>16884.92400</td>\n",
              "    </tr>\n",
              "    <tr>\n",
              "      <th>1</th>\n",
              "      <td>18</td>\n",
              "      <td>male</td>\n",
              "      <td>33.770</td>\n",
              "      <td>1</td>\n",
              "      <td>no</td>\n",
              "      <td>southeast</td>\n",
              "      <td>1725.55230</td>\n",
              "    </tr>\n",
              "    <tr>\n",
              "      <th>2</th>\n",
              "      <td>28</td>\n",
              "      <td>male</td>\n",
              "      <td>33.000</td>\n",
              "      <td>3</td>\n",
              "      <td>no</td>\n",
              "      <td>southeast</td>\n",
              "      <td>4449.46200</td>\n",
              "    </tr>\n",
              "    <tr>\n",
              "      <th>3</th>\n",
              "      <td>33</td>\n",
              "      <td>male</td>\n",
              "      <td>22.705</td>\n",
              "      <td>0</td>\n",
              "      <td>no</td>\n",
              "      <td>northwest</td>\n",
              "      <td>21984.47061</td>\n",
              "    </tr>\n",
              "    <tr>\n",
              "      <th>4</th>\n",
              "      <td>32</td>\n",
              "      <td>male</td>\n",
              "      <td>28.880</td>\n",
              "      <td>0</td>\n",
              "      <td>no</td>\n",
              "      <td>northwest</td>\n",
              "      <td>3866.85520</td>\n",
              "    </tr>\n",
              "    <tr>\n",
              "      <th>...</th>\n",
              "      <td>...</td>\n",
              "      <td>...</td>\n",
              "      <td>...</td>\n",
              "      <td>...</td>\n",
              "      <td>...</td>\n",
              "      <td>...</td>\n",
              "      <td>...</td>\n",
              "    </tr>\n",
              "    <tr>\n",
              "      <th>1333</th>\n",
              "      <td>50</td>\n",
              "      <td>male</td>\n",
              "      <td>30.970</td>\n",
              "      <td>3</td>\n",
              "      <td>no</td>\n",
              "      <td>northwest</td>\n",
              "      <td>10600.54830</td>\n",
              "    </tr>\n",
              "    <tr>\n",
              "      <th>1334</th>\n",
              "      <td>18</td>\n",
              "      <td>female</td>\n",
              "      <td>31.920</td>\n",
              "      <td>0</td>\n",
              "      <td>no</td>\n",
              "      <td>northeast</td>\n",
              "      <td>2205.98080</td>\n",
              "    </tr>\n",
              "    <tr>\n",
              "      <th>1335</th>\n",
              "      <td>18</td>\n",
              "      <td>female</td>\n",
              "      <td>36.850</td>\n",
              "      <td>0</td>\n",
              "      <td>no</td>\n",
              "      <td>southeast</td>\n",
              "      <td>1629.83350</td>\n",
              "    </tr>\n",
              "    <tr>\n",
              "      <th>1336</th>\n",
              "      <td>21</td>\n",
              "      <td>female</td>\n",
              "      <td>25.800</td>\n",
              "      <td>0</td>\n",
              "      <td>no</td>\n",
              "      <td>southwest</td>\n",
              "      <td>2007.94500</td>\n",
              "    </tr>\n",
              "    <tr>\n",
              "      <th>1337</th>\n",
              "      <td>61</td>\n",
              "      <td>female</td>\n",
              "      <td>29.070</td>\n",
              "      <td>0</td>\n",
              "      <td>yes</td>\n",
              "      <td>northwest</td>\n",
              "      <td>29141.36030</td>\n",
              "    </tr>\n",
              "  </tbody>\n",
              "</table>\n",
              "<p>1338 rows × 7 columns</p>\n",
              "</div>\n",
              "      <button class=\"colab-df-convert\" onclick=\"convertToInteractive('df-d02481c9-7691-480d-acad-0af01a040da1')\"\n",
              "              title=\"Convert this dataframe to an interactive table.\"\n",
              "              style=\"display:none;\">\n",
              "        \n",
              "  <svg xmlns=\"http://www.w3.org/2000/svg\" height=\"24px\"viewBox=\"0 0 24 24\"\n",
              "       width=\"24px\">\n",
              "    <path d=\"M0 0h24v24H0V0z\" fill=\"none\"/>\n",
              "    <path d=\"M18.56 5.44l.94 2.06.94-2.06 2.06-.94-2.06-.94-.94-2.06-.94 2.06-2.06.94zm-11 1L8.5 8.5l.94-2.06 2.06-.94-2.06-.94L8.5 2.5l-.94 2.06-2.06.94zm10 10l.94 2.06.94-2.06 2.06-.94-2.06-.94-.94-2.06-.94 2.06-2.06.94z\"/><path d=\"M17.41 7.96l-1.37-1.37c-.4-.4-.92-.59-1.43-.59-.52 0-1.04.2-1.43.59L10.3 9.45l-7.72 7.72c-.78.78-.78 2.05 0 2.83L4 21.41c.39.39.9.59 1.41.59.51 0 1.02-.2 1.41-.59l7.78-7.78 2.81-2.81c.8-.78.8-2.07 0-2.86zM5.41 20L4 18.59l7.72-7.72 1.47 1.35L5.41 20z\"/>\n",
              "  </svg>\n",
              "      </button>\n",
              "      \n",
              "  <style>\n",
              "    .colab-df-container {\n",
              "      display:flex;\n",
              "      flex-wrap:wrap;\n",
              "      gap: 12px;\n",
              "    }\n",
              "\n",
              "    .colab-df-convert {\n",
              "      background-color: #E8F0FE;\n",
              "      border: none;\n",
              "      border-radius: 50%;\n",
              "      cursor: pointer;\n",
              "      display: none;\n",
              "      fill: #1967D2;\n",
              "      height: 32px;\n",
              "      padding: 0 0 0 0;\n",
              "      width: 32px;\n",
              "    }\n",
              "\n",
              "    .colab-df-convert:hover {\n",
              "      background-color: #E2EBFA;\n",
              "      box-shadow: 0px 1px 2px rgba(60, 64, 67, 0.3), 0px 1px 3px 1px rgba(60, 64, 67, 0.15);\n",
              "      fill: #174EA6;\n",
              "    }\n",
              "\n",
              "    [theme=dark] .colab-df-convert {\n",
              "      background-color: #3B4455;\n",
              "      fill: #D2E3FC;\n",
              "    }\n",
              "\n",
              "    [theme=dark] .colab-df-convert:hover {\n",
              "      background-color: #434B5C;\n",
              "      box-shadow: 0px 1px 3px 1px rgba(0, 0, 0, 0.15);\n",
              "      filter: drop-shadow(0px 1px 2px rgba(0, 0, 0, 0.3));\n",
              "      fill: #FFFFFF;\n",
              "    }\n",
              "  </style>\n",
              "\n",
              "      <script>\n",
              "        const buttonEl =\n",
              "          document.querySelector('#df-d02481c9-7691-480d-acad-0af01a040da1 button.colab-df-convert');\n",
              "        buttonEl.style.display =\n",
              "          google.colab.kernel.accessAllowed ? 'block' : 'none';\n",
              "\n",
              "        async function convertToInteractive(key) {\n",
              "          const element = document.querySelector('#df-d02481c9-7691-480d-acad-0af01a040da1');\n",
              "          const dataTable =\n",
              "            await google.colab.kernel.invokeFunction('convertToInteractive',\n",
              "                                                     [key], {});\n",
              "          if (!dataTable) return;\n",
              "\n",
              "          const docLinkHtml = 'Like what you see? Visit the ' +\n",
              "            '<a target=\"_blank\" href=https://colab.research.google.com/notebooks/data_table.ipynb>data table notebook</a>'\n",
              "            + ' to learn more about interactive tables.';\n",
              "          element.innerHTML = '';\n",
              "          dataTable['output_type'] = 'display_data';\n",
              "          await google.colab.output.renderOutput(dataTable, element);\n",
              "          const docLink = document.createElement('div');\n",
              "          docLink.innerHTML = docLinkHtml;\n",
              "          element.appendChild(docLink);\n",
              "        }\n",
              "      </script>\n",
              "    </div>\n",
              "  </div>\n",
              "  "
            ]
          },
          "metadata": {},
          "execution_count": 14
        }
      ]
    },
    {
      "cell_type": "code",
      "source": [
        "from sklearn.compose import make_column_transformer\n",
        "from sklearn.preprocessing import MinMaxScaler, OneHotEncoder\n",
        "from sklearn.model_selection import train_test_split\n",
        "\n",
        "ct = make_column_transformer(\n",
        "    (MinMaxScaler(),[\"age\",\"bmi\",\"children\"]),\n",
        "    (OneHotEncoder(handle_unknown=\"ignore\"),[\"sex\",\"smoker\",\"region\"])\n",
        ")\n",
        "\n",
        "x = insurance.drop(\"charges\",axis=1)\n",
        "y = insurance[\"charges\"]\n",
        "\n",
        "x_train,x_test,y_train,y_test = train_test_split(x,y,test_size=0.3,random_state=42)"
      ],
      "metadata": {
        "id": "JrQxhIAQvzcR"
      },
      "execution_count": 17,
      "outputs": []
    },
    {
      "cell_type": "code",
      "source": [
        "ct.fit(x_train)"
      ],
      "metadata": {
        "colab": {
          "base_uri": "https://localhost:8080/"
        },
        "id": "vV5vqhVCxXT0",
        "outputId": "e9c65a07-69fb-460d-9031-3e899d4fa643"
      },
      "execution_count": 18,
      "outputs": [
        {
          "output_type": "execute_result",
          "data": {
            "text/plain": [
              "ColumnTransformer(transformers=[('minmaxscaler', MinMaxScaler(),\n",
              "                                 ['age', 'bmi', 'children']),\n",
              "                                ('onehotencoder',\n",
              "                                 OneHotEncoder(handle_unknown='ignore'),\n",
              "                                 ['sex', 'smoker', 'region'])])"
            ]
          },
          "metadata": {},
          "execution_count": 18
        }
      ]
    },
    {
      "cell_type": "code",
      "source": [
        "ct_train = ct.transform(x_train)\n",
        "ct_test = ct.transform(x_test)"
      ],
      "metadata": {
        "id": "IwnlXbBjxl5H"
      },
      "execution_count": 19,
      "outputs": []
    },
    {
      "cell_type": "code",
      "source": [
        "ct_train[0]"
      ],
      "metadata": {
        "colab": {
          "base_uri": "https://localhost:8080/"
        },
        "id": "8uUECMRdxytf",
        "outputId": "81207857-647d-4495-c3c2-2871a1ba72c4"
      },
      "execution_count": 21,
      "outputs": [
        {
          "output_type": "execute_result",
          "data": {
            "text/plain": [
              "array([0.93478261, 0.40893193, 0.        , 1.        , 0.        ,\n",
              "       1.        , 0.        , 0.        , 1.        , 0.        ,\n",
              "       0.        ])"
            ]
          },
          "metadata": {},
          "execution_count": 21
        }
      ]
    },
    {
      "cell_type": "code",
      "source": [
        " x_train.shape, ct_train.shape"
      ],
      "metadata": {
        "colab": {
          "base_uri": "https://localhost:8080/"
        },
        "id": "nJPUlcTjx8Ka",
        "outputId": "52cfd1f6-a0a1-4b54-8fd6-a1617ec2b797"
      },
      "execution_count": 23,
      "outputs": [
        {
          "output_type": "execute_result",
          "data": {
            "text/plain": [
              "((936, 6), (936, 11))"
            ]
          },
          "metadata": {},
          "execution_count": 23
        }
      ]
    },
    {
      "cell_type": "code",
      "source": [
        "#Build the model on this \n",
        "tf.random.set_seed(42)\n",
        "\n",
        "model = tf.keras.Sequential([\n",
        "    tf.keras.layers.Dense(100,activation=\"relu\"),\n",
        "    tf.keras.layers.Dense(50,activation=\"relu\"),\n",
        "    tf.keras.layers.Dense(10,activation=\"relu\"),\n",
        "    tf.keras.layers.Dense(1,activation=\"relu\")\n",
        "])\n",
        "\n",
        "model.compile(loss = tf.keras.losses.mae,\n",
        "              optimizer=tf.keras.optimizers.Adam(),\n",
        "              metrics=[\"mean_absolute_error\"])\n",
        "\n",
        "model.fit(ct_train,y_train,epochs=100)"
      ],
      "metadata": {
        "colab": {
          "base_uri": "https://localhost:8080/"
        },
        "id": "bVHi1YvayJYJ",
        "outputId": "8d4a5827-0961-404b-a285-cb9b1da51e01"
      },
      "execution_count": 25,
      "outputs": [
        {
          "output_type": "stream",
          "name": "stdout",
          "text": [
            "Epoch 1/100\n",
            "30/30 [==============================] - 1s 3ms/step - loss: 13377.5986 - mean_absolute_error: 13377.5986\n",
            "Epoch 2/100\n",
            "30/30 [==============================] - 0s 2ms/step - loss: 13368.1455 - mean_absolute_error: 13368.1455\n",
            "Epoch 3/100\n",
            "30/30 [==============================] - 0s 3ms/step - loss: 13324.5654 - mean_absolute_error: 13324.5654\n",
            "Epoch 4/100\n",
            "30/30 [==============================] - 0s 2ms/step - loss: 13175.8486 - mean_absolute_error: 13175.8486\n",
            "Epoch 5/100\n",
            "30/30 [==============================] - 0s 2ms/step - loss: 12799.0615 - mean_absolute_error: 12799.0615\n",
            "Epoch 6/100\n",
            "30/30 [==============================] - 0s 2ms/step - loss: 12020.9297 - mean_absolute_error: 12020.9297\n",
            "Epoch 7/100\n",
            "30/30 [==============================] - 0s 2ms/step - loss: 10786.1299 - mean_absolute_error: 10786.1299\n",
            "Epoch 8/100\n",
            "30/30 [==============================] - 0s 2ms/step - loss: 9430.3457 - mean_absolute_error: 9430.3457\n",
            "Epoch 9/100\n",
            "30/30 [==============================] - 0s 3ms/step - loss: 8447.9219 - mean_absolute_error: 8447.9219\n",
            "Epoch 10/100\n",
            "30/30 [==============================] - 0s 2ms/step - loss: 8071.4814 - mean_absolute_error: 8071.4814\n",
            "Epoch 11/100\n",
            "30/30 [==============================] - 0s 2ms/step - loss: 7949.4697 - mean_absolute_error: 7949.4697\n",
            "Epoch 12/100\n",
            "30/30 [==============================] - 0s 2ms/step - loss: 7836.6533 - mean_absolute_error: 7836.6533\n",
            "Epoch 13/100\n",
            "30/30 [==============================] - 0s 4ms/step - loss: 7730.1421 - mean_absolute_error: 7730.1421\n",
            "Epoch 14/100\n",
            "30/30 [==============================] - 0s 3ms/step - loss: 7617.8696 - mean_absolute_error: 7617.8696\n",
            "Epoch 15/100\n",
            "30/30 [==============================] - 0s 2ms/step - loss: 7500.8037 - mean_absolute_error: 7500.8037\n",
            "Epoch 16/100\n",
            "30/30 [==============================] - 0s 2ms/step - loss: 7377.2451 - mean_absolute_error: 7377.2451\n",
            "Epoch 17/100\n",
            "30/30 [==============================] - 0s 3ms/step - loss: 7241.5107 - mean_absolute_error: 7241.5107\n",
            "Epoch 18/100\n",
            "30/30 [==============================] - 0s 2ms/step - loss: 7097.3057 - mean_absolute_error: 7097.3057\n",
            "Epoch 19/100\n",
            "30/30 [==============================] - 0s 2ms/step - loss: 6941.6387 - mean_absolute_error: 6941.6387\n",
            "Epoch 20/100\n",
            "30/30 [==============================] - 0s 2ms/step - loss: 6761.8232 - mean_absolute_error: 6761.8232\n",
            "Epoch 21/100\n",
            "30/30 [==============================] - 0s 2ms/step - loss: 6569.4653 - mean_absolute_error: 6569.4653\n",
            "Epoch 22/100\n",
            "30/30 [==============================] - 0s 2ms/step - loss: 6359.8413 - mean_absolute_error: 6359.8413\n",
            "Epoch 23/100\n",
            "30/30 [==============================] - 0s 2ms/step - loss: 6111.6426 - mean_absolute_error: 6111.6426\n",
            "Epoch 24/100\n",
            "30/30 [==============================] - 0s 2ms/step - loss: 5828.4097 - mean_absolute_error: 5828.4097\n",
            "Epoch 25/100\n",
            "30/30 [==============================] - 0s 2ms/step - loss: 5515.1094 - mean_absolute_error: 5515.1094\n",
            "Epoch 26/100\n",
            "30/30 [==============================] - 0s 2ms/step - loss: 5181.6475 - mean_absolute_error: 5181.6475\n",
            "Epoch 27/100\n",
            "30/30 [==============================] - 0s 2ms/step - loss: 4825.7690 - mean_absolute_error: 4825.7690\n",
            "Epoch 28/100\n",
            "30/30 [==============================] - 0s 2ms/step - loss: 4487.3643 - mean_absolute_error: 4487.3643\n",
            "Epoch 29/100\n",
            "30/30 [==============================] - 0s 2ms/step - loss: 4205.2095 - mean_absolute_error: 4205.2095\n",
            "Epoch 30/100\n",
            "30/30 [==============================] - 0s 2ms/step - loss: 3968.1355 - mean_absolute_error: 3968.1355\n",
            "Epoch 31/100\n",
            "30/30 [==============================] - 0s 3ms/step - loss: 3787.1311 - mean_absolute_error: 3787.1311\n",
            "Epoch 32/100\n",
            "30/30 [==============================] - 0s 2ms/step - loss: 3677.2573 - mean_absolute_error: 3677.2573\n",
            "Epoch 33/100\n",
            "30/30 [==============================] - 0s 2ms/step - loss: 3619.9741 - mean_absolute_error: 3619.9741\n",
            "Epoch 34/100\n",
            "30/30 [==============================] - 0s 2ms/step - loss: 3582.5454 - mean_absolute_error: 3582.5454\n",
            "Epoch 35/100\n",
            "30/30 [==============================] - 0s 2ms/step - loss: 3557.5083 - mean_absolute_error: 3557.5083\n",
            "Epoch 36/100\n",
            "30/30 [==============================] - 0s 2ms/step - loss: 3526.0933 - mean_absolute_error: 3526.0933\n",
            "Epoch 37/100\n",
            "30/30 [==============================] - 0s 2ms/step - loss: 3501.8037 - mean_absolute_error: 3501.8037\n",
            "Epoch 38/100\n",
            "30/30 [==============================] - 0s 2ms/step - loss: 3478.9893 - mean_absolute_error: 3478.9893\n",
            "Epoch 39/100\n",
            "30/30 [==============================] - 0s 2ms/step - loss: 3452.8235 - mean_absolute_error: 3452.8235\n",
            "Epoch 40/100\n",
            "30/30 [==============================] - 0s 2ms/step - loss: 3433.7092 - mean_absolute_error: 3433.7092\n",
            "Epoch 41/100\n",
            "30/30 [==============================] - 0s 2ms/step - loss: 3413.2944 - mean_absolute_error: 3413.2944\n",
            "Epoch 42/100\n",
            "30/30 [==============================] - 0s 2ms/step - loss: 3394.1641 - mean_absolute_error: 3394.1641\n",
            "Epoch 43/100\n",
            "30/30 [==============================] - 0s 2ms/step - loss: 3378.5649 - mean_absolute_error: 3378.5649\n",
            "Epoch 44/100\n",
            "30/30 [==============================] - 0s 2ms/step - loss: 3357.0898 - mean_absolute_error: 3357.0898\n",
            "Epoch 45/100\n",
            "30/30 [==============================] - 0s 3ms/step - loss: 3351.0942 - mean_absolute_error: 3351.0942\n",
            "Epoch 46/100\n",
            "30/30 [==============================] - 0s 2ms/step - loss: 3334.2129 - mean_absolute_error: 3334.2129\n",
            "Epoch 47/100\n",
            "30/30 [==============================] - 0s 2ms/step - loss: 3318.5342 - mean_absolute_error: 3318.5342\n",
            "Epoch 48/100\n",
            "30/30 [==============================] - 0s 3ms/step - loss: 3303.5188 - mean_absolute_error: 3303.5188\n",
            "Epoch 49/100\n",
            "30/30 [==============================] - 0s 2ms/step - loss: 3295.8010 - mean_absolute_error: 3295.8010\n",
            "Epoch 50/100\n",
            "30/30 [==============================] - 0s 2ms/step - loss: 3294.1953 - mean_absolute_error: 3294.1953\n",
            "Epoch 51/100\n",
            "30/30 [==============================] - 0s 2ms/step - loss: 3280.2500 - mean_absolute_error: 3280.2500\n",
            "Epoch 52/100\n",
            "30/30 [==============================] - 0s 2ms/step - loss: 3276.7837 - mean_absolute_error: 3276.7837\n",
            "Epoch 53/100\n",
            "30/30 [==============================] - 0s 2ms/step - loss: 3268.9604 - mean_absolute_error: 3268.9604\n",
            "Epoch 54/100\n",
            "30/30 [==============================] - 0s 3ms/step - loss: 3266.2944 - mean_absolute_error: 3266.2944\n",
            "Epoch 55/100\n",
            "30/30 [==============================] - 0s 2ms/step - loss: 3259.9526 - mean_absolute_error: 3259.9526\n",
            "Epoch 56/100\n",
            "30/30 [==============================] - 0s 3ms/step - loss: 3256.3696 - mean_absolute_error: 3256.3696\n",
            "Epoch 57/100\n",
            "30/30 [==============================] - 0s 3ms/step - loss: 3256.6448 - mean_absolute_error: 3256.6448\n",
            "Epoch 58/100\n",
            "30/30 [==============================] - 0s 3ms/step - loss: 3247.6362 - mean_absolute_error: 3247.6362\n",
            "Epoch 59/100\n",
            "30/30 [==============================] - 0s 4ms/step - loss: 3238.4153 - mean_absolute_error: 3238.4153\n",
            "Epoch 60/100\n",
            "30/30 [==============================] - 0s 4ms/step - loss: 3232.6819 - mean_absolute_error: 3232.6819\n",
            "Epoch 61/100\n",
            "30/30 [==============================] - 0s 4ms/step - loss: 3231.7927 - mean_absolute_error: 3231.7927\n",
            "Epoch 62/100\n",
            "30/30 [==============================] - 0s 3ms/step - loss: 3233.7844 - mean_absolute_error: 3233.7844\n",
            "Epoch 63/100\n",
            "30/30 [==============================] - 0s 3ms/step - loss: 3234.3289 - mean_absolute_error: 3234.3289\n",
            "Epoch 64/100\n",
            "30/30 [==============================] - 0s 4ms/step - loss: 3233.5596 - mean_absolute_error: 3233.5596\n",
            "Epoch 65/100\n",
            "30/30 [==============================] - 0s 3ms/step - loss: 3231.8003 - mean_absolute_error: 3231.8003\n",
            "Epoch 66/100\n",
            "30/30 [==============================] - 0s 4ms/step - loss: 3241.6030 - mean_absolute_error: 3241.6030\n",
            "Epoch 67/100\n",
            "30/30 [==============================] - 0s 3ms/step - loss: 3230.0759 - mean_absolute_error: 3230.0759\n",
            "Epoch 68/100\n",
            "30/30 [==============================] - 0s 4ms/step - loss: 3237.4492 - mean_absolute_error: 3237.4492\n",
            "Epoch 69/100\n",
            "30/30 [==============================] - 0s 3ms/step - loss: 3228.2339 - mean_absolute_error: 3228.2339\n",
            "Epoch 70/100\n",
            "30/30 [==============================] - 0s 5ms/step - loss: 3226.8286 - mean_absolute_error: 3226.8286\n",
            "Epoch 71/100\n",
            "30/30 [==============================] - 0s 4ms/step - loss: 3225.2886 - mean_absolute_error: 3225.2886\n",
            "Epoch 72/100\n",
            "30/30 [==============================] - 0s 4ms/step - loss: 3226.6162 - mean_absolute_error: 3226.6162\n",
            "Epoch 73/100\n",
            "30/30 [==============================] - 0s 4ms/step - loss: 3224.2910 - mean_absolute_error: 3224.2910\n",
            "Epoch 74/100\n",
            "30/30 [==============================] - 0s 4ms/step - loss: 3221.9326 - mean_absolute_error: 3221.9326\n",
            "Epoch 75/100\n",
            "30/30 [==============================] - 0s 3ms/step - loss: 3221.3220 - mean_absolute_error: 3221.3220\n",
            "Epoch 76/100\n",
            "30/30 [==============================] - 0s 3ms/step - loss: 3224.4460 - mean_absolute_error: 3224.4460\n",
            "Epoch 77/100\n",
            "30/30 [==============================] - 0s 4ms/step - loss: 3221.4211 - mean_absolute_error: 3221.4211\n",
            "Epoch 78/100\n",
            "30/30 [==============================] - 0s 5ms/step - loss: 3221.4456 - mean_absolute_error: 3221.4456\n",
            "Epoch 79/100\n",
            "30/30 [==============================] - 0s 4ms/step - loss: 3220.8914 - mean_absolute_error: 3220.8914\n",
            "Epoch 80/100\n",
            "30/30 [==============================] - 0s 4ms/step - loss: 3217.2568 - mean_absolute_error: 3217.2568\n",
            "Epoch 81/100\n",
            "30/30 [==============================] - 0s 4ms/step - loss: 3218.4695 - mean_absolute_error: 3218.4695\n",
            "Epoch 82/100\n",
            "30/30 [==============================] - 0s 4ms/step - loss: 3211.9622 - mean_absolute_error: 3211.9622\n",
            "Epoch 83/100\n",
            "30/30 [==============================] - 0s 4ms/step - loss: 3215.4976 - mean_absolute_error: 3215.4976\n",
            "Epoch 84/100\n",
            "30/30 [==============================] - 0s 3ms/step - loss: 3212.7681 - mean_absolute_error: 3212.7681\n",
            "Epoch 85/100\n",
            "30/30 [==============================] - 0s 4ms/step - loss: 3211.7961 - mean_absolute_error: 3211.7961\n",
            "Epoch 86/100\n",
            "30/30 [==============================] - 0s 4ms/step - loss: 3210.5491 - mean_absolute_error: 3210.5491\n",
            "Epoch 87/100\n",
            "30/30 [==============================] - 0s 4ms/step - loss: 3207.9807 - mean_absolute_error: 3207.9807\n",
            "Epoch 88/100\n",
            "30/30 [==============================] - 0s 4ms/step - loss: 3218.4316 - mean_absolute_error: 3218.4316\n",
            "Epoch 89/100\n",
            "30/30 [==============================] - 0s 3ms/step - loss: 3208.2896 - mean_absolute_error: 3208.2896\n",
            "Epoch 90/100\n",
            "30/30 [==============================] - 0s 4ms/step - loss: 3205.6438 - mean_absolute_error: 3205.6438\n",
            "Epoch 91/100\n",
            "30/30 [==============================] - 0s 4ms/step - loss: 3204.9895 - mean_absolute_error: 3204.9895\n",
            "Epoch 92/100\n",
            "30/30 [==============================] - 0s 4ms/step - loss: 3203.7559 - mean_absolute_error: 3203.7559\n",
            "Epoch 93/100\n",
            "30/30 [==============================] - 0s 4ms/step - loss: 3204.4482 - mean_absolute_error: 3204.4482\n",
            "Epoch 94/100\n",
            "30/30 [==============================] - 0s 5ms/step - loss: 3202.9084 - mean_absolute_error: 3202.9084\n",
            "Epoch 95/100\n",
            "30/30 [==============================] - 0s 4ms/step - loss: 3196.9377 - mean_absolute_error: 3196.9377\n",
            "Epoch 96/100\n",
            "30/30 [==============================] - 0s 4ms/step - loss: 3199.0466 - mean_absolute_error: 3199.0466\n",
            "Epoch 97/100\n",
            "30/30 [==============================] - 0s 4ms/step - loss: 3194.7324 - mean_absolute_error: 3194.7324\n",
            "Epoch 98/100\n",
            "30/30 [==============================] - 0s 3ms/step - loss: 3195.6274 - mean_absolute_error: 3195.6274\n",
            "Epoch 99/100\n",
            "30/30 [==============================] - 0s 3ms/step - loss: 3200.7053 - mean_absolute_error: 3200.7053\n",
            "Epoch 100/100\n",
            "30/30 [==============================] - 0s 4ms/step - loss: 3193.4429 - mean_absolute_error: 3193.4429\n"
          ]
        },
        {
          "output_type": "execute_result",
          "data": {
            "text/plain": [
              "<keras.callbacks.History at 0x7f3805e768e0>"
            ]
          },
          "metadata": {},
          "execution_count": 25
        }
      ]
    },
    {
      "cell_type": "code",
      "source": [
        "model.summary()"
      ],
      "metadata": {
        "colab": {
          "base_uri": "https://localhost:8080/"
        },
        "id": "LsM09nIdzhvf",
        "outputId": "94aaef5e-c60d-40f8-d20c-4bb3b75cf5f4"
      },
      "execution_count": 27,
      "outputs": [
        {
          "output_type": "stream",
          "name": "stdout",
          "text": [
            "Model: \"sequential_2\"\n",
            "_________________________________________________________________\n",
            " Layer (type)                Output Shape              Param #   \n",
            "=================================================================\n",
            " dense_6 (Dense)             (None, 100)               1200      \n",
            "                                                                 \n",
            " dense_7 (Dense)             (None, 50)                5050      \n",
            "                                                                 \n",
            " dense_8 (Dense)             (None, 10)                510       \n",
            "                                                                 \n",
            " dense_9 (Dense)             (None, 1)                 11        \n",
            "                                                                 \n",
            "=================================================================\n",
            "Total params: 6,771\n",
            "Trainable params: 6,771\n",
            "Non-trainable params: 0\n",
            "_________________________________________________________________\n"
          ]
        }
      ]
    },
    {
      "cell_type": "code",
      "source": [
        "model.evaluate(ct_test,y_test)"
      ],
      "metadata": {
        "colab": {
          "base_uri": "https://localhost:8080/"
        },
        "id": "qCE64rWHzUtL",
        "outputId": "29ed3182-61f9-4e68-cf04-9994f51c450f"
      },
      "execution_count": 26,
      "outputs": [
        {
          "output_type": "stream",
          "name": "stdout",
          "text": [
            "13/13 [==============================] - 1s 8ms/step - loss: 2797.5652 - mean_absolute_error: 2797.5652\n"
          ]
        },
        {
          "output_type": "execute_result",
          "data": {
            "text/plain": [
              "[2797.565185546875, 2797.565185546875]"
            ]
          },
          "metadata": {},
          "execution_count": 26
        }
      ]
    },
    {
      "cell_type": "markdown",
      "source": [
        "# Tensorflow for Classification dataset"
      ],
      "metadata": {
        "id": "pypcg9MC0Dss"
      }
    },
    {
      "cell_type": "code",
      "source": [
        "## Creating the data\n",
        "from sklearn.datasets import make_circles\n",
        "\n",
        "n_samples = 1000\n",
        "\n",
        "x,y = make_circles(n_samples,\n",
        "                   noise=0.03,\n",
        "                   random_state=42)"
      ],
      "metadata": {
        "id": "ukZtNeS7ztng"
      },
      "execution_count": 28,
      "outputs": []
    },
    {
      "cell_type": "code",
      "source": [
        "x[:10]"
      ],
      "metadata": {
        "colab": {
          "base_uri": "https://localhost:8080/"
        },
        "id": "ZP1A0gIN2GxQ",
        "outputId": "53f88e99-4920-4846-92ef-e24f7d0d7993"
      },
      "execution_count": 32,
      "outputs": [
        {
          "output_type": "execute_result",
          "data": {
            "text/plain": [
              "array([[ 0.75424625,  0.23148074],\n",
              "       [-0.75615888,  0.15325888],\n",
              "       [-0.81539193,  0.17328203],\n",
              "       [-0.39373073,  0.69288277],\n",
              "       [ 0.44220765, -0.89672343],\n",
              "       [-0.47964637,  0.67643477],\n",
              "       [-0.01364836,  0.80334872],\n",
              "       [ 0.77151327,  0.14775959],\n",
              "       [-0.16932234, -0.79345575],\n",
              "       [-0.1214858 ,  1.02150905]])"
            ]
          },
          "metadata": {},
          "execution_count": 32
        }
      ]
    },
    {
      "cell_type": "code",
      "source": [
        "y[:10]"
      ],
      "metadata": {
        "colab": {
          "base_uri": "https://localhost:8080/"
        },
        "id": "hGobTbqk2Yt0",
        "outputId": "482ca27a-1e07-4a8e-b77b-bc1525035002"
      },
      "execution_count": 34,
      "outputs": [
        {
          "output_type": "execute_result",
          "data": {
            "text/plain": [
              "array([1, 1, 1, 1, 0, 1, 1, 1, 1, 0])"
            ]
          },
          "metadata": {},
          "execution_count": 34
        }
      ]
    },
    {
      "cell_type": "code",
      "source": [
        "circles = pd.DataFrame({\"x0\":x[:,0],\"x1\":x[:,1],\"labels\":y})\n",
        "circles.head()"
      ],
      "metadata": {
        "colab": {
          "base_uri": "https://localhost:8080/",
          "height": 206
        },
        "id": "lwyTPn4V2ZCg",
        "outputId": "593af8a7-4b6a-43e0-db70-7ccf7df128cc"
      },
      "execution_count": 36,
      "outputs": [
        {
          "output_type": "execute_result",
          "data": {
            "text/plain": [
              "         x0        x1  labels\n",
              "0  0.754246  0.231481       1\n",
              "1 -0.756159  0.153259       1\n",
              "2 -0.815392  0.173282       1\n",
              "3 -0.393731  0.692883       1\n",
              "4  0.442208 -0.896723       0"
            ],
            "text/html": [
              "\n",
              "  <div id=\"df-792e6a72-8823-4000-9dde-3683e4ffdba2\">\n",
              "    <div class=\"colab-df-container\">\n",
              "      <div>\n",
              "<style scoped>\n",
              "    .dataframe tbody tr th:only-of-type {\n",
              "        vertical-align: middle;\n",
              "    }\n",
              "\n",
              "    .dataframe tbody tr th {\n",
              "        vertical-align: top;\n",
              "    }\n",
              "\n",
              "    .dataframe thead th {\n",
              "        text-align: right;\n",
              "    }\n",
              "</style>\n",
              "<table border=\"1\" class=\"dataframe\">\n",
              "  <thead>\n",
              "    <tr style=\"text-align: right;\">\n",
              "      <th></th>\n",
              "      <th>x0</th>\n",
              "      <th>x1</th>\n",
              "      <th>labels</th>\n",
              "    </tr>\n",
              "  </thead>\n",
              "  <tbody>\n",
              "    <tr>\n",
              "      <th>0</th>\n",
              "      <td>0.754246</td>\n",
              "      <td>0.231481</td>\n",
              "      <td>1</td>\n",
              "    </tr>\n",
              "    <tr>\n",
              "      <th>1</th>\n",
              "      <td>-0.756159</td>\n",
              "      <td>0.153259</td>\n",
              "      <td>1</td>\n",
              "    </tr>\n",
              "    <tr>\n",
              "      <th>2</th>\n",
              "      <td>-0.815392</td>\n",
              "      <td>0.173282</td>\n",
              "      <td>1</td>\n",
              "    </tr>\n",
              "    <tr>\n",
              "      <th>3</th>\n",
              "      <td>-0.393731</td>\n",
              "      <td>0.692883</td>\n",
              "      <td>1</td>\n",
              "    </tr>\n",
              "    <tr>\n",
              "      <th>4</th>\n",
              "      <td>0.442208</td>\n",
              "      <td>-0.896723</td>\n",
              "      <td>0</td>\n",
              "    </tr>\n",
              "  </tbody>\n",
              "</table>\n",
              "</div>\n",
              "      <button class=\"colab-df-convert\" onclick=\"convertToInteractive('df-792e6a72-8823-4000-9dde-3683e4ffdba2')\"\n",
              "              title=\"Convert this dataframe to an interactive table.\"\n",
              "              style=\"display:none;\">\n",
              "        \n",
              "  <svg xmlns=\"http://www.w3.org/2000/svg\" height=\"24px\"viewBox=\"0 0 24 24\"\n",
              "       width=\"24px\">\n",
              "    <path d=\"M0 0h24v24H0V0z\" fill=\"none\"/>\n",
              "    <path d=\"M18.56 5.44l.94 2.06.94-2.06 2.06-.94-2.06-.94-.94-2.06-.94 2.06-2.06.94zm-11 1L8.5 8.5l.94-2.06 2.06-.94-2.06-.94L8.5 2.5l-.94 2.06-2.06.94zm10 10l.94 2.06.94-2.06 2.06-.94-2.06-.94-.94-2.06-.94 2.06-2.06.94z\"/><path d=\"M17.41 7.96l-1.37-1.37c-.4-.4-.92-.59-1.43-.59-.52 0-1.04.2-1.43.59L10.3 9.45l-7.72 7.72c-.78.78-.78 2.05 0 2.83L4 21.41c.39.39.9.59 1.41.59.51 0 1.02-.2 1.41-.59l7.78-7.78 2.81-2.81c.8-.78.8-2.07 0-2.86zM5.41 20L4 18.59l7.72-7.72 1.47 1.35L5.41 20z\"/>\n",
              "  </svg>\n",
              "      </button>\n",
              "      \n",
              "  <style>\n",
              "    .colab-df-container {\n",
              "      display:flex;\n",
              "      flex-wrap:wrap;\n",
              "      gap: 12px;\n",
              "    }\n",
              "\n",
              "    .colab-df-convert {\n",
              "      background-color: #E8F0FE;\n",
              "      border: none;\n",
              "      border-radius: 50%;\n",
              "      cursor: pointer;\n",
              "      display: none;\n",
              "      fill: #1967D2;\n",
              "      height: 32px;\n",
              "      padding: 0 0 0 0;\n",
              "      width: 32px;\n",
              "    }\n",
              "\n",
              "    .colab-df-convert:hover {\n",
              "      background-color: #E2EBFA;\n",
              "      box-shadow: 0px 1px 2px rgba(60, 64, 67, 0.3), 0px 1px 3px 1px rgba(60, 64, 67, 0.15);\n",
              "      fill: #174EA6;\n",
              "    }\n",
              "\n",
              "    [theme=dark] .colab-df-convert {\n",
              "      background-color: #3B4455;\n",
              "      fill: #D2E3FC;\n",
              "    }\n",
              "\n",
              "    [theme=dark] .colab-df-convert:hover {\n",
              "      background-color: #434B5C;\n",
              "      box-shadow: 0px 1px 3px 1px rgba(0, 0, 0, 0.15);\n",
              "      filter: drop-shadow(0px 1px 2px rgba(0, 0, 0, 0.3));\n",
              "      fill: #FFFFFF;\n",
              "    }\n",
              "  </style>\n",
              "\n",
              "      <script>\n",
              "        const buttonEl =\n",
              "          document.querySelector('#df-792e6a72-8823-4000-9dde-3683e4ffdba2 button.colab-df-convert');\n",
              "        buttonEl.style.display =\n",
              "          google.colab.kernel.accessAllowed ? 'block' : 'none';\n",
              "\n",
              "        async function convertToInteractive(key) {\n",
              "          const element = document.querySelector('#df-792e6a72-8823-4000-9dde-3683e4ffdba2');\n",
              "          const dataTable =\n",
              "            await google.colab.kernel.invokeFunction('convertToInteractive',\n",
              "                                                     [key], {});\n",
              "          if (!dataTable) return;\n",
              "\n",
              "          const docLinkHtml = 'Like what you see? Visit the ' +\n",
              "            '<a target=\"_blank\" href=https://colab.research.google.com/notebooks/data_table.ipynb>data table notebook</a>'\n",
              "            + ' to learn more about interactive tables.';\n",
              "          element.innerHTML = '';\n",
              "          dataTable['output_type'] = 'display_data';\n",
              "          await google.colab.output.renderOutput(dataTable, element);\n",
              "          const docLink = document.createElement('div');\n",
              "          docLink.innerHTML = docLinkHtml;\n",
              "          element.appendChild(docLink);\n",
              "        }\n",
              "      </script>\n",
              "    </div>\n",
              "  </div>\n",
              "  "
            ]
          },
          "metadata": {},
          "execution_count": 36
        }
      ]
    },
    {
      "cell_type": "code",
      "source": [
        "# visualize the dataset\n",
        "plt.scatter(circles[\"x0\"],circles[\"x1\"],c=y,cmap=plt.cm.RdYlBu)"
      ],
      "metadata": {
        "colab": {
          "base_uri": "https://localhost:8080/",
          "height": 282
        },
        "id": "un4U13W03Bo4",
        "outputId": "ec3735e1-eb0c-4e2b-a561-9b24e60da403"
      },
      "execution_count": 39,
      "outputs": [
        {
          "output_type": "execute_result",
          "data": {
            "text/plain": [
              "<matplotlib.collections.PathCollection at 0x7f3804553910>"
            ]
          },
          "metadata": {},
          "execution_count": 39
        },
        {
          "output_type": "display_data",
          "data": {
            "text/plain": [
              "<Figure size 432x288 with 1 Axes>"
            ],
            "image/png": "[encoded data removed]"
          },
          "metadata": {
            "needs_background": "light"
          }
        }
      ]
    },
    {
      "cell_type": "code",
      "source": [
        "len(x),len(y)"
      ],
      "metadata": {
        "colab": {
          "base_uri": "https://localhost:8080/"
        },
        "id": "d0Bj0HQk8Vr4",
        "outputId": "19c80b37-97c7-484a-b3d4-b65edec04531"
      },
      "execution_count": 45,
      "outputs": [
        {
          "output_type": "execute_result",
          "data": {
            "text/plain": [
              "(1000, 1000)"
            ]
          },
          "metadata": {},
          "execution_count": 45
        }
      ]
    },
    {
      "cell_type": "code",
      "source": [
        "x.shape,y.shape"
      ],
      "metadata": {
        "colab": {
          "base_uri": "https://localhost:8080/"
        },
        "id": "ZvV_b_ju8ZIP",
        "outputId": "13ac444d-90f1-4c1d-9091-cf8b79e6a62f"
      },
      "execution_count": 47,
      "outputs": [
        {
          "output_type": "execute_result",
          "data": {
            "text/plain": [
              "((1000, 2), (1000,))"
            ]
          },
          "metadata": {},
          "execution_count": 47
        }
      ]
    },
    {
      "cell_type": "code",
      "source": [
        "# Modeling the neural network\n",
        "tf.random.set_seed(42)\n",
        "\n",
        "model = tf.keras.Sequential([\n",
        "    tf.keras.layers.Dense(1)\n",
        "])\n",
        "\n",
        "model.compile(loss = tf.keras.losses.BinaryCrossentropy(),\n",
        "              optimizer = tf.keras.optimizers.SGD(),\n",
        "              metrics = [\"accuracy\"])\n",
        "\n",
        "model.fit(x,y,epochs=5)"
      ],
      "metadata": {
        "colab": {
          "base_uri": "https://localhost:8080/"
        },
        "id": "p1FQsFwo525V",
        "outputId": "7031b787-8d62-4aac-8a6d-099a739f9f26"
      },
      "execution_count": 51,
      "outputs": [
        {
          "output_type": "stream",
          "name": "stdout",
          "text": [
            "Epoch 1/5\n",
            "32/32 [==============================] - 1s 4ms/step - loss: 4.0250 - accuracy: 0.4750\n",
            "Epoch 2/5\n",
            "32/32 [==============================] - 0s 4ms/step - loss: 0.7577 - accuracy: 0.4950\n",
            "Epoch 3/5\n",
            "32/32 [==============================] - 0s 4ms/step - loss: 0.7109 - accuracy: 0.4960\n",
            "Epoch 4/5\n",
            "32/32 [==============================] - 0s 3ms/step - loss: 0.6992 - accuracy: 0.4980\n",
            "Epoch 5/5\n",
            "32/32 [==============================] - 0s 3ms/step - loss: 0.6961 - accuracy: 0.4880\n"
          ]
        },
        {
          "output_type": "execute_result",
          "data": {
            "text/plain": [
              "<keras.callbacks.History at 0x7f3805013a00>"
            ]
          },
          "metadata": {},
          "execution_count": 51
        }
      ]
    },
    {
      "cell_type": "code",
      "source": [
        "model.fit(x,y,epochs=200,verbose=0)"
      ],
      "metadata": {
        "colab": {
          "base_uri": "https://localhost:8080/"
        },
        "id": "NbiYi1uN7vgK",
        "outputId": "d3b28b9c-161b-487a-e243-4671791e37bd"
      },
      "execution_count": 53,
      "outputs": [
        {
          "output_type": "execute_result",
          "data": {
            "text/plain": [
              "<keras.callbacks.History at 0x7f3804efa520>"
            ]
          },
          "metadata": {},
          "execution_count": 53
        }
      ]
    },
    {
      "cell_type": "code",
      "source": [
        "tf.random.set_seed(42)\n",
        "\n",
        "model = tf.keras.Sequential([\n",
        "    tf.keras.layers.Dense(100,activation=\"relu\"),\n",
        "    tf.keras.layers.Dense(1)\n",
        "])\n",
        "\n",
        "model.compile(loss = tf.keras.losses.BinaryCrossentropy(),\n",
        "              optimizer = tf.keras.optimizers.Adam(),\n",
        "              metrics = [\"accuracy\"])\n",
        "\n",
        "model.fit(x,y,epochs=200,verbose=0)"
      ],
      "metadata": {
        "colab": {
          "base_uri": "https://localhost:8080/"
        },
        "id": "NWNdMQJO9UbN",
        "outputId": "fbf7ed9b-f7c9-4cf3-c063-d758e0fdfba1"
      },
      "execution_count": 57,
      "outputs": [
        {
          "output_type": "execute_result",
          "data": {
            "text/plain": [
              "<keras.callbacks.History at 0x7f3808e31c40>"
            ]
          },
          "metadata": {},
          "execution_count": 57
        }
      ]
    },
    {
      "cell_type": "code",
      "source": [
        "model.evaluate(x,y)"
      ],
      "metadata": {
        "colab": {
          "base_uri": "https://localhost:8080/"
        },
        "id": "dMC7tyWo9qLh",
        "outputId": "d878efbd-b9db-4b51-914c-ef6ec1e02382"
      },
      "execution_count": 58,
      "outputs": [
        {
          "output_type": "stream",
          "name": "stdout",
          "text": [
            "32/32 [==============================] - 0s 1ms/step - loss: 0.0089 - accuracy: 1.0000\n"
          ]
        },
        {
          "output_type": "execute_result",
          "data": {
            "text/plain": [
              "[0.008877059444785118, 1.0]"
            ]
          },
          "metadata": {},
          "execution_count": 58
        }
      ]
    },
    {
      "cell_type": "code",
      "source": [
        "tf.random.set_seed(42)\n",
        "\n",
        "model = tf.keras.Sequential([\n",
        "    tf.keras.layers.Dense(100,activation=\"relu\"),\n",
        "    tf.keras.layers.Dense(10,activation=\"relu\"),\n",
        "    tf.keras.layers.Dense(1)\n",
        "])\n",
        "\n",
        "model.compile(loss = tf.keras.losses.BinaryCrossentropy(),\n",
        "              optimizer = tf.keras.optimizers.Adam(),\n",
        "              metrics = [\"accuracy\"])\n",
        "\n",
        "model.fit(x,y,epochs=200,verbose=0)"
      ],
      "metadata": {
        "colab": {
          "base_uri": "https://localhost:8080/"
        },
        "id": "OfwwEYb19zKA",
        "outputId": "01672a93-6606-4612-a06e-e48db6a0c05c"
      },
      "execution_count": 59,
      "outputs": [
        {
          "output_type": "execute_result",
          "data": {
            "text/plain": [
              "<keras.callbacks.History at 0x7f3808c4bca0>"
            ]
          },
          "metadata": {},
          "execution_count": 59
        }
      ]
    },
    {
      "cell_type": "code",
      "source": [
        "model.evaluate(x,y)"
      ],
      "metadata": {
        "colab": {
          "base_uri": "https://localhost:8080/"
        },
        "id": "OWs2KMmo-XFC",
        "outputId": "e3a0f13c-1cf6-4a1c-d97b-c3d1f95875c1"
      },
      "execution_count": 60,
      "outputs": [
        {
          "output_type": "stream",
          "name": "stdout",
          "text": [
            "32/32 [==============================] - 0s 4ms/step - loss: 0.0024 - accuracy: 1.0000\n"
          ]
        },
        {
          "output_type": "execute_result",
          "data": {
            "text/plain": [
              "[0.0024169469252228737, 1.0]"
            ]
          },
          "metadata": {},
          "execution_count": 60
        }
      ]
    },
    {
      "cell_type": "code",
      "source": [
        "model.summary()"
      ],
      "metadata": {
        "colab": {
          "base_uri": "https://localhost:8080/"
        },
        "id": "n6q8S361-YyZ",
        "outputId": "22f38a2a-67f2-48e8-bb00-4d1e52511a5d"
      },
      "execution_count": 61,
      "outputs": [
        {
          "output_type": "stream",
          "name": "stdout",
          "text": [
            "Model: \"sequential_14\"\n",
            "_________________________________________________________________\n",
            " Layer (type)                Output Shape              Param #   \n",
            "=================================================================\n",
            " dense_24 (Dense)            (None, 100)               300       \n",
            "                                                                 \n",
            " dense_25 (Dense)            (None, 10)                1010      \n",
            "                                                                 \n",
            " dense_26 (Dense)            (None, 1)                 11        \n",
            "                                                                 \n",
            "=================================================================\n",
            "Total params: 1,321\n",
            "Trainable params: 1,321\n",
            "Non-trainable params: 0\n",
            "_________________________________________________________________\n"
          ]
        }
      ]
    },
    {
      "cell_type": "code",
      "source": [],
      "metadata": {
        "id": "8q_Z0pnS-bsA"
      },
      "execution_count": null,
      "outputs": []
    }
  ]
}